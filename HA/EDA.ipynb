{
 "cells": [
  {
   "cell_type": "code",
   "execution_count": 1,
   "metadata": {},
   "outputs": [],
   "source": [
    "import numpy as np\n",
    "import matplotlib.pyplot as plot"
   ]
  },
  {
   "cell_type": "code",
   "execution_count": 9,
   "metadata": {},
   "outputs": [
    {
     "name": "stdout",
     "output_type": "stream",
     "text": [
      "EDA.ipynb                     ufo_first100records.json\r\n",
      "bigfoot_first100records.json\r\n"
     ]
    }
   ],
   "source": [
    "ls"
   ]
  },
  {
   "cell_type": "code",
   "execution_count": null,
   "metadata": {},
   "outputs": [],
   "source": []
  },
  {
   "cell_type": "code",
   "execution_count": 118,
   "metadata": {},
   "outputs": [],
   "source": [
    "import json\n",
    "import pandas as pd\n",
    "bf_reports=[]\n",
    "with open('bigfoot_first100records.json') as f:\n",
    "    for i in f:\n",
    "        bf_reports.append(json.loads(i))\n",
    "ufo_reports = []\n",
    "with open('ufo_first100records.json') as f:\n",
    "    for i in f:\n",
    "        ufo_reports.append(json.loads(i))"
   ]
  },
  {
   "cell_type": "code",
   "execution_count": null,
   "metadata": {},
   "outputs": [],
   "source": []
  },
  {
   "cell_type": "code",
   "execution_count": 12,
   "metadata": {},
   "outputs": [
    {
     "data": {
      "text/plain": [
       "{'_id': {'$oid': '5939abbd2acdf6607095366d'},\n",
       " 'url': 'show_report.asp?id=8792',\n",
       " 'html': '\\r\\n<!doctype html public \"-//w3c//dtd html 4.0 transitional//en\">\\r\\n<HTML>\\r\\n\\t<HEAD>\\r\\n        <meta http-equiv=\"X-UA-Compatible\" content=\"IE=EmulateIE7\" />\\r\\n        <meta http-equiv=\"Content-Type\" content=\"text/html; charset=iso-8859-1\">\\r\\n    <meta name=\"KEYWORDS\" content=\"bigfoot, big foot, BigFoot, BFRO, Bigfoot research, sightings database, organizations, Organization, sightings, lists, locations, areas, reports, report, ape, apes, forest, giant, giants, monster, monsters, swamp, creek, Florida, Skunk Ape Florida Skuk Ape, Abominable Snowman, Agogwe, Almasti, Batutut-Borneo, Didi, Dwendi, Kakundakari, Kung-Lu, Mapinguary, Muhalu, sasquatch, sasquach, Sedapa, Orang Pendek, Shiru, Sisimite, Skunk Ape, Tok- Burma, Yeti, Yowie, cryptozoology, animals, strange, glowing eyes, foot prints, cast, tracks, fottprint cast, hairy, beast, mystery, paranormal, ufo, x-files, xfiles, bionic woman, sightings, sighting, IVBC, Byrne, report, howl, scream, primate, everglades, Florida Everglades, swamp, Gigantopithecus, missing link, missing, link, anthropology, skunk, monkey, foot, big, encounters, eyewitness reports, North America, Submit a report, reports, Submit an Article, Submit Comments, theories, research projects, track, cast, investigation, hair, microscopy analysis, field research journals, the Gigantopithecus Theory, Sasquatching Equipment, Sasquatching Tips for Collecting Evidence, photograph, tracks, physical evidence, Sounds, Photos\">\\r\\n\\t\\t<TITLE>BFRO Report 8792: Four nocturnal hikers get pelted with snow near Anchorage</TITLE> \\r\\n\\r\\n\\t\\t<script src=\"/fade.js\" language=\"Javascript\"></script>\\r\\n\\t\\t<script type=\"text/javascript\">\\r\\n\\t\\tfunction runLogo() {\\r\\n\\t\\t\\tvar logo = document.getElementById(\"logo\");\\r\\n\\t\\t\\tif(logo != null)\\r\\n\\t\\t\\t{\\r\\n\\t\\t\\t\\tlogo.src=logo.src + \\'a;\\'\\r\\n\\t\\t\\t}\\r\\n\\t\\t}\\r\\n\\t\\t\\r\\n\\t\\t</script>\\r\\n\\r\\n\\r\\n\\t\\t<!-- /Flash Browser Detection Script -->\\r\\n    <LINK rel=\"STYLESHEET\" href=\"/bfro_v2.css\" type=\"text/css\">\\r\\n    <LINK REL=\"SHORTCUT ICON\" HREF=\"http://www.bfro.net/favicon.ico\">\\r\\n\\t</HEAD>\\r\\n\\t<BODY onLoad=\"runLogo()\"  bgcolor=\"#000000\" topmargin=\"0\" leftmargin=\"0\">\\r\\n\\r\\n\\t\\t\\t<SCRIPT>\\r\\n\\t\\t\\t<!--\\r\\n\\t\\t\\t\\tif (document.images) \\r\\n\\t\\t\\t\\t{\\r\\n\\t\\t\\t\\t\\tb_Media_Articles = new Image();\\r\\n\\t\\t\\t\\t\\tb_Media_Articles.src = \"/images/templates/b-Media%20Articles_hl.jpg\";\\r\\n\\t\\t\\t\\t\\tb_Media_Articles_orig = new Image();\\r\\n\\t\\t\\t\\t\\tb_Media_Articles_orig.src = \"/images/templates/b-Media%20Articles.jpg\";\\r\\n\\t\\t\\t\\t\\tb_ReportForm = new Image();\\r\\n\\t\\t\\t\\t\\tb_ReportForm.src = \"/images/templates/b-Report%20Form_hl.jpg\";\\r\\n\\t\\t\\t\\t\\tb_ReportForm_orig = new Image();\\r\\n\\t\\t\\t\\t\\tb_ReportForm_orig.src = \"/images/templates/b-Report%20Form.jpg\";\\r\\n\\t\\t\\t\\t\\tb_Home = new Image();\\r\\n\\t\\t\\t\\t\\tb_Home.src = \"/images/templates/b-Home_hl.jpg\";\\r\\n\\t\\t\\t\\t\\tb_Home_orig = new Image();\\r\\n\\t\\t\\t\\t\\tb_Home_orig.src = \"/images/templates/b-Home.jpg\";\\r\\n\\t\\t\\t\\t}\\r\\n\\r\\n\\t\\t\\t\\tfunction turnOn(imageName) \\r\\n\\t\\t\\t\\t{\\r\\n\\t\\t\\t\\t\\tif (document.images) \\r\\n\\t\\t\\t\\t\\t{\\r\\n\\t\\t\\t\\t\\t\\tdocument[imageName].src = eval(imageName + \".src\");  \\r\\n\\t\\t\\t\\t\\t}\\r\\n\\t\\t\\t\\t}\\r\\n\\r\\n\\t\\t\\t\\tfunction turnOff(imageName) \\r\\n\\t\\t\\t\\t{  \\r\\n\\t\\t\\t\\t\\tif (document.images) \\r\\n\\t\\t\\t\\t\\t{\\r\\n\\t\\t\\t\\t\\t\\t\\tdocument[imageName].src = eval(imageName + \"_orig.src\");  \\r\\n\\t\\t\\t\\t\\t}\\r\\n\\t\\t\\t\\t}\\r\\n\\t\\t\\t\\t-->\\r\\n\\t\\t\\t</SCRIPT>\\r\\n\\t\\t\\t<SCRIPT language=\"JavaScript1.2\" src=\"/images/templates/bfro_data.asp\"></SCRIPT>\\r\\n\\t\\t\\t<SCRIPT language=\"JavaScript1.2\" src=\"/images/templates/dqm_script.js\"></SCRIPT>\\r\\n\\t\\t\\t<table border=\"0\" align=\"left\" cellpadding=\"0\" cellspacing=\"0\" width=\"780\">\\r\\n\\t\\t\\t\\t<tr>\\r\\n\\t\\t\\t\\t\\t<td width=\"130\" valign=\"top\" align=\"middle\">\\r\\n\\t\\t\\t\\t\\t\\t\\r\\n    <table border=\"0\" align=\"left\" cellpadding=\"0\" cellspacing=\"0\" width=\"130\">\\r\\n      <tr> \\r\\n        <td height=\"130\" width=\"130\" align=\"middle\">  \\r\\n          <a href=\"/\"><img id=\"logo\" alt=\"Bigfoot Field Researchers Organization Logo\" src=\"/images/templates/LogoSpin.gif?\" onMouseOver=\"runLogo();\" height=\"130\" width=\"130\" border=\"0\"></a>\\r\\n          <NOSCRIPT>  <a href=\"/\"><img alt=\"Bigfoot Field Researchers Organization Logo\" src=\"/images/templates/LogoSpin.gif?\" onMouseOver=\"runLogo();\" height=\"130\" width=\"130\" border=\"0\"></a> \\r\\n           </NOSCRIPT>  </td>\\r\\n      </tr>\\r\\n      <tr> \\r\\n        <td align=\"left\" valign=\"top\"> \\r\\n          <table border=\"0\" cellpadding=\"0\" cellspacing=\"0\">\\r\\n            <tr> \\r\\n              <td colspan=\"2\"><IMG SRC=\"/images/templates/Outline_01.gif\" WIDTH=\"130\" HEIGHT=\"15\"></td>\\r\\n            </tr>\\r\\n            <tr> \\r\\n              <td><IMG SRC=\"/images/templates/Outline_02.gif\" WIDTH=\"15\" HEIGHT=\"20\"></td>\\r\\n              <td><A HREF=\"/\" onMouseOver=\"turnOn(\\'b_Home\\');\" onMouseOut=\"turnOff(\\'b_Home\\');\"><IMG NAME=\"b_Home\" SRC=\"/images/templates/b-Home.jpg\" WIDTH=\"130\" HEIGHT=\"20\" BORDER=\"0\"></A></td>\\r\\n            </tr>\\r\\n            <tr> \\r\\n              <td><IMG SRC=\"/images/templates/Outline_02.gif\" WIDTH=\"15\" HEIGHT=\"20\"></td>\\r\\n              <td><A HREF=\"/\"><img border=\"0\" src=\"/images/templates/b-Features.jpg\" width=\"130\" height=\"20\" name=\"menu0\" id=\"menu0\" onMouseOver=\"showMenu(event)\" onMouseOut=\"hideMenu(event)\"></A></td>\\r\\n            </tr>\\r\\n            <tr> \\r\\n              <td><IMG SRC=\"/images/templates/Outline_02.gif\" WIDTH=\"15\" HEIGHT=\"20\"></td>\\r\\n              <td><A HREF=\"/GDB/\"><img border=\"0\" src=\"/images/templates/b-Reports.jpg\" width=\"130\" height=\"20\" name=\"menu1\" id=\"menu1\" onMouseOver=\"showMenu(event)\" onMouseOut=\"hideMenu(event)\"></A></td>\\r\\n            </tr>\\r\\n            <tr> \\r\\n              <td><IMG SRC=\"/images/templates/Outline_02.gif\" WIDTH=\"15\" HEIGHT=\"20\"></td>\\r\\n              <td><A HREF=\"/GDB/newart.asp\" onMouseOver=\"turnOn(\\'b_Media_Articles\\');\" onMouseOut=\"turnOff(\\'b_Media_Articles\\');\"><IMG NAME=\"b_Media_Articles\" SRC=\"/images/templates/b-Media%20Articles.jpg\" WIDTH=\"130\" HEIGHT=\"20\" BORDER=\"0\"></A></td>\\r\\n            </tr>\\r\\n            <tr> \\r\\n              <td><IMG SRC=\"/images/templates/Outline_02.gif\" WIDTH=\"15\" HEIGHT=\"20\"></td>\\r\\n              <td><A HREF=\"/GDB/submitfm.asp\" onMouseOver=\"turnOn(\\'b_ReportForm\\');\" onMouseOut=\"turnOff(\\'b_ReportForm\\');\"><IMG NAME=\"b_ReportForm\" SRC=\"/images/templates/b-Report%20Form.jpg\" WIDTH=\"130\" HEIGHT=\"20\" BORDER=\"0\"></A></td>\\r\\n            </tr>\\r\\n            <tr> \\r\\n              <td><IMG SRC=\"/images/templates/Outline_02.gif\" WIDTH=\"15\" HEIGHT=\"20\"></td>\\r\\n              <td><a href=\"/gdb/show_fAQ.asp?id=405\"><img border=\"0\" src=\"/images/templates/b-FAQs.jpg\" width=\"130\" height=\"20\" name=\"menu2\" id=\"menu2\" onMouseOver=\"showMenu(event)\" onMouseOut=\"hideMenu(event)\"></a></td>\\r\\n            </tr>\\r\\n            <tr> \\r\\n              <td><IMG SRC=\"/images/templates/Outline_02.gif\" WIDTH=\"15\" HEIGHT=\"20\"></td>\\r\\n              <td><a href=\"/GDB/theories.asp\"><img border=\"0\" src=\"/images/templates/b-Departments.jpg\" width=\"130\" height=\"20\" name=\"menu3\" id=\"menu3\" onMouseOver=\"showMenu(event)\" onMouseOut=\"hideMenu(event)\"></a></td>\\r\\n            </tr>\\r\\n            <tr> \\r\\n              <td colspan=\"2\"><IMG SRC=\"/images/templates/Outline_05.gif\" WIDTH=\"130\" HEIGHT=\"15\"></td>\\r\\n            </tr>\\r\\n          </table>\\r\\n        </td>\\r\\n      </tr>\\r\\n      <tr align=\"left\" bordercolor=\"3\"> \\r\\n        <td style=\"padding-right: 13px; padding-left: 13px; font-size: 10pt\"> \\r\\n          <div align=\"left\">&nbsp;<br>\\r\\n            <br>\\r\\n            \\r\\n             </div>\\r\\n        </td></tr>\\r\\n<tr>\\r\\n  <td><a href=\"http://www.bfro.net/news/townhall.asp\"><img src=\"http://www.bfro.net/gdb/images/townhall_sidebar.gif\" alt=\"townhall\" width=\"135\" height=\"141\" border=\"3\"></a><br><br><br>\\r\\n    <a href=\"http://www.bfro.net/news/roundup/expeds_2017.asp\">\\r\\n<img src=\"http://www.bfro.net/gdb/images/exped_2017_map_sidebar.gif\" alt=\"expeds\" width=\"135\" height=\"127\" border=\"3\"></a><br>\\r\\n<!--<br>\\r\\n<br><br>\\r\\n<a href=\"http://www.bfro.net/merchandise/catalog.asp\"><img src=\"http://www.bfro.net/gdb/images/bfro_store_margin_banner.gif\" alt=\"store\" width=\"135\" height=\"81\" border=\"3\"></a>-->\\r\\n<br>\\r\\n<br>\\r\\n<a href=\"http://www.bfro.net/merchandise/catalog.asp\"><img src=\"http://www.bfro.net/gdb/images/margin_icon_store.gif\" alt=\"store\" width=\"135\" height=\"148\" border=\"3\"></a><br>\\r\\n<br><br><br>\\r\\n\\r\\n    <div id=\"google_translate_element\"></div><script>\\r\\nfunction googleTranslateElementInit() {\\r\\n  new google.translate.TranslateElement({\\r\\n    pageLanguage: \\'en\\'\\r\\n  }, \\'google_translate_element\\');\\r\\n}\\r\\n</script><script src=\"//translate.google.com/translate_a/element.js?cb=googleTranslateElementInit\"></script>\\r\\n<br><br>\\r\\n\\r\\n<!-- AddThis Button BEGIN -->\\r\\n<div class=\"addthis_toolbox addthis_default_style \">\\r\\n<a class=\"addthis_button_preferred_1\"></a>\\r\\n<a class=\"addthis_button_preferred_2\"></a>\\r\\n<a class=\"addthis_button_preferred_3\"></a>\\r\\n<a class=\"addthis_button_preferred_4\"></a>\\r\\n<a class=\"addthis_button_compact\"></a>\\r\\n<a class=\"addthis_counter addthis_bubble_style\"></a>\\r\\n</div>\\r\\n<script type=\"text/javascript\">var addthis_config = {\"data_track_clickback\":true};</script>\\r\\n<script type=\"text/javascript\" src=\"http://s7.addthis.com/js/250/addthis_widget.js#pubid=ra-4e017f48386f7ed9\"></script>\\r\\n<!-- AddThis Button END -->\\r\\n\\r\\n\\r\\n\\r\\n</td></tr>\\r\\n\\r\\n\\r\\n    </table>\\r\\n    \\r\\n    \\r\\n\\t\\t\\t\\t\\t\\t<!-- BEGIN CONTENT SECTION -->\\r\\n\\r\\n\\r\\n\\t\\t\\t\\t\\t</td>\\r\\n\\t\\t\\t\\t\\t<td>\\r\\n\\t\\t\\t\\t\\t\\t<img src=\"/images/templates/spacer.gif\" width=\"1\" height=\"400\" align=>\\r\\n\\t\\t\\t\\t\\t</td>\\r\\n\\t\\t\\t\\t\\t<td valign=\"top\" align=\"left\">\\r\\n\\t<table border=0 cellpadding=14 cellspacing=5 width=\"100%\" bgcolor=\"#003333\" ID=\"Table1\">\\r\\n\\t<tr><td>\\r\\n\\r\\n\\t\\t<span style=\"font-size: 10pt\"><a href=\"/gdb/\">Geographical Index</a> &gt; <a href=\"/gdb/#usa\">United States</a> &gt; <a href=\"/GDB/state_listing.asp?state=AK\">Alaska</a> &gt; <a href=\"/GDB/show_county_reports.asp?state=AK&county=Anchorage\">Anchorage County</a> &gt; Report # 8792<br>&nbsp;<br></span>\\r\\n    <span class=reportheader>Report # 8792</span>&nbsp;&nbsp;<span class=reportclassification>(Class B)</span>\\r\\n      <BR>\\r\\n      <span class=field>Submitted  by  witness   on Thursday,&nbsp;June&nbsp;3,&nbsp;2004.</span>\\r\\n    <hr size=\"5\" noshade color=\"#009900\">\\r\\n\\r\\n    <span class=field>Four nocturnal hikers get pelted with snow near Anchorage</span>\\r\\n    <hr size=\"5\" noshade color=\"#009900\">\\r\\n\\r\\n    <span style=\"font-size:10pt\"><a href=\"/GDB/show_report.asp?ID=8792&PrinterFriendly=True\">(Show Printer-friendly Version)</a></span>\\r\\n    \\r\\n    <p><span class=field>YEAR:</span> 2003</p>\\r\\n<p><span class=field>SEASON:</span> Winter</p><p><span class=field>MONTH:</span> December</p><p><span class=field>DATE:</span> Friday night</p><p><span class=field>STATE:</span> <a href=\"/GDB/state_listing.asp?state=AK\">Alaska</a></p><p><span class=field>COUNTY:</span> <a href=\"/GDB/show_county_reports.asp?state=AK&county=Anchorage\">Anchorage County</a></p><p><span class=field>LOCATION DETAILS:</span> Few houses on the way, a power relay station. To get to it our way, go down Dowling Road(left off of Lake Otis), where you will walk a trail. Follow it all the way down, but there are multiple entrances and trails.</p><p><span class=field>NEAREST TOWN:</span> Anchorage</p><p><span class=field>NEAREST ROAD:</span> Dowling</p><p><span class=field>OBSERVED:</span> Me and a couple of friends had been bored, when I decided we should take a walk through the woods behind my house. I didn\\'t think much of it, as me and my friend have done it many times before. There were four of us, and we set out at about 11 o\\'clock at night. It was rather dark, but there was light from the moon. The weather was rather cold, as we did this in the winter. The area we walked on was game trails (trails that moose walk on) as well as trails used for mushers, runners, cross country skiiers, and that sort. We had walked about 2 miles from my house to another entrance where most people enter. On the way we had talked about unexplainable events or things such as bigfoot, and UFOs. When we reached the bridge where most people come in, one friend had smoked a cigarette. We then saw a light and decided to go on. On the way back, we heard wild dogs barking wildly, and decided to pick up the speed. It eventually became a sprint, whereafter we walked. When we walked, we continued talking about it. It was then I had realized, some thing had been following us, as well as testing us, or even harassing us. It was much earlier, I just didnt think about it. I had thought it was my friend Warren, who is sometimes clumsy. I had thought it was him who had made noises such as slipping, but it was really something throwing stuff at us. I had realized this about half way back. I asked if Warren kept slipping, when he told me it wasn\\'t, and he thought I could have been pulling a prank. We stopped for a minute to listen when I told the others something strange was going on. We stopped, and shone a flashlight around, hearing noises such as steps, and branches moving and breaking. The leader had thought I had been playing a joke when I told him seriously, I wasn\\'t. He decided to walk behind with me, when something threw snowballs, and nearly hit us on many occasions. It was then he realized that this was no joke, and we picked up a light jog, for most of the way. When we were almost out of the woods, we had again heard dogs, and maybe 20 ft away, the branches breaking, and again, something throwing stuff at us. By the time we left, it was about 3-3:30 in the morning. I did not go directly to my house because I didn\\'t know if it was still following us. I know this was not a prank because the snow is more then 5 ft deep in the woods, and someone would have a extremely hard time to play a prank like that. </p><p><span class=field>ALSO NOTICED:</span> We smelled of colonge and after shave, and one of them smoked.(Warren)</p><p><span class=field>OTHER WITNESSES:</span> 4. Me, w-man, warren and sean. We were at my house thinking of what we could do because we were so bored.</p><p><span class=field>OTHER STORIES:</span> no</p><p><span class=field>TIME AND CONDITIONS:</span> Started at 11, ended at about 3-3:30. Weather was cold, no clouds, and temp. maybe in the high teens. Visible lighting from moon.</p><p><span class=field>ENVIRONMENT:</span> A pine forest, with a bog or swamp on the right, after you first enter from dowling. on the way their is a creek, and towards the bridge, is Campbell Creek. Some of us had cologne on, and I had shaved earlier that day, and smelled of aftershave.</p>\\r\\n    <hr size=\"5\" noshade color=\"#009900\">\\r\\n    <p>Follow-up investigation report by BFRO Investigator Dr. Wolf H. Fahrenbach:</p>\\r\\n    <blockquote>\\r\\n      <p>The area under consideration is at the eastern edge of Anchorage and is continuous with the substantial mountain ranges in that direction (Chugach Mountains). Apparently, there is no leash law in Anchorage and often dogs form packs. The items thrown at the the four seemed to be clods of hard snow, as some ice crust was present in places. The participants also detected a rank aroma, partly carcass in nature.The moon on that the date and time listed was about 85% full.</p>\\r\\n    </blockquote>\\r\\n\\r\\n    <hr size=\"5\" noshade color=\"#009900\">\\r\\n\\r\\n    <ul>\\r\\n\\t\\t\\t<li><a href=\"/gdb/classify.asp\">Explanation of the report classification system</a></li>\\r\\n\\t\\t\\t\\r\\n        <li><a href=\"/GDB/submitfm.asp\">Submit a report for the sightings database</a></li>\\r\\n\\t\\t\\t<!--<li><a href=\"/GDB/comments.asp?CommentURL=http%3A%2F%2Fwww%2Ebfro%2Enet%2FGDB%2Fshow%5Freport%2Easp%3Fid%3D8792\">Submit a comment or article</a></li>-->\\r\\n\\t\\t\\t<li>Please send any comments or inquiries to Contact@BFRO.net</li>\\r\\n\\t\\t</ul>\\r\\n\\t\\t</td></tr></table><BR>&nbsp;\\r\\n\\r\\n\\t\\t\\t\\t\\t<!-- END CONTENT SECTION -->\\r\\n\\t\\t\\t\\t</td>\\r\\n\\t\\t\\t</tr>\\r\\n\\t\\t\\t<tr>\\r\\n\\t\\t\\t\\t<td colspan=\"2\" width=\"131\"><img src=\"/images/templates/spacer.gif\" width=\"131\" height=\"1\"></td>\\r\\n\\t\\t\\t\\t<td align=\"left\">&nbsp;&nbsp;<span class=\"smallprint\">Copyright &copy; 2017<!--2017--> BFRO.net</span>\\r\\n\\t\\t\\t\\t<br>&nbsp;\\r\\n\\t\\t\\t\\t<br><img src=\"/images/templates/spacer.gif\" wwidth=\"649\" height=\"1\"></td></tr>\\r\\n\\t\\t</table>\\r\\n\\r\\n<script type=\"text/javascript\">runLogo();</script>\\r\\n\\t</BODY>\\r\\n</HTML>\\r\\n\\r\\n',\n",
       " 'time': 'Thu Jun  8 19:55:41 2017'}"
      ]
     },
     "execution_count": 12,
     "metadata": {},
     "output_type": "execute_result"
    }
   ],
   "source": [
    "bf_reports[1]"
   ]
  },
  {
   "cell_type": "code",
   "execution_count": 102,
   "metadata": {},
   "outputs": [],
   "source": [
    "bf_html=[]\n",
    "for report in bf_reports:\n",
    "    bf=report['html']\n",
    "    bf_html.append(bf)"
   ]
  },
  {
   "cell_type": "code",
   "execution_count": 19,
   "metadata": {},
   "outputs": [
    {
     "data": {
      "text/plain": [
       "'\\r\\n<!doctype html public \"-//w3c//dtd html 4.0 transitional//en\">\\r\\n<HTML>\\r\\n\\t<HEAD>\\r\\n        <meta http-equiv=\"X-UA-Compatible\" content=\"IE=EmulateIE7\" />\\r\\n        <meta http-equiv=\"Content-Type\" content=\"text/html; charset=iso-8859-1\">\\r\\n    <meta name=\"KEYWORDS\" content=\"bigfoot, big foot, BigFoot, BFRO, Bigfoot research, sightings database, organizations, Organization, sightings, lists, locations, areas, reports, report, ape, apes, forest, giant, giants, monster, monsters, swamp, creek, Florida, Skunk Ape Florida Skuk Ape, Abominable Snowman, Agogwe, Almasti, Batutut-Borneo, Didi, Dwendi, Kakundakari, Kung-Lu, Mapinguary, Muhalu, sasquatch, sasquach, Sedapa, Orang Pendek, Shiru, Sisimite, Skunk Ape, Tok- Burma, Yeti, Yowie, cryptozoology, animals, strange, glowing eyes, foot prints, cast, tracks, fottprint cast, hairy, beast, mystery, paranormal, ufo, x-files, xfiles, bionic woman, sightings, sighting, IVBC, Byrne, report, howl, scream, primate, everglades, Florida Everglades, swamp, Gigantopithecus, missing link, missing, link, anthropology, skunk, monkey, foot, big, encounters, eyewitness reports, North America, Submit a report, reports, Submit an Article, Submit Comments, theories, research projects, track, cast, investigation, hair, microscopy analysis, field research journals, the Gigantopithecus Theory, Sasquatching Equipment, Sasquatching Tips for Collecting Evidence, photograph, tracks, physical evidence, Sounds, Photos\">\\r\\n\\t\\t<TITLE>BFRO Report 13038: Snowmobiler has encounter in deep snow near Potter, AK</TITLE> \\r\\n\\r\\n\\t\\t<script src=\"/fade.js\" language=\"Javascript\"></script>\\r\\n\\t\\t<script type=\"text/javascript\">\\r\\n\\t\\tfunction runLogo() {\\r\\n\\t\\t\\tvar logo = document.getElementById(\"logo\");\\r\\n\\t\\t\\tif(logo != null)\\r\\n\\t\\t\\t{\\r\\n\\t\\t\\t\\tlogo.src=logo.src + \\'a;\\'\\r\\n\\t\\t\\t}\\r\\n\\t\\t}\\r\\n\\t\\t\\r\\n\\t\\t</script>\\r\\n\\r\\n\\r\\n\\t\\t<!-- /Flash Browser Detection Script -->\\r\\n    <LINK rel=\"STYLESHEET\" href=\"/bfro_v2.css\" type=\"text/css\">\\r\\n    <LINK REL=\"SHORTCUT ICON\" HREF=\"http://www.bfro.net/favicon.ico\">\\r\\n\\t</HEAD>\\r\\n\\t<BODY onLoad=\"runLogo()\"  bgcolor=\"#000000\" topmargin=\"0\" leftmargin=\"0\">\\r\\n\\r\\n\\t\\t\\t<SCRIPT>\\r\\n\\t\\t\\t<!--\\r\\n\\t\\t\\t\\tif (document.images) \\r\\n\\t\\t\\t\\t{\\r\\n\\t\\t\\t\\t\\tb_Media_Articles = new Image();\\r\\n\\t\\t\\t\\t\\tb_Media_Articles.src = \"/images/templates/b-Media%20Articles_hl.jpg\";\\r\\n\\t\\t\\t\\t\\tb_Media_Articles_orig = new Image();\\r\\n\\t\\t\\t\\t\\tb_Media_Articles_orig.src = \"/images/templates/b-Media%20Articles.jpg\";\\r\\n\\t\\t\\t\\t\\tb_ReportForm = new Image();\\r\\n\\t\\t\\t\\t\\tb_ReportForm.src = \"/images/templates/b-Report%20Form_hl.jpg\";\\r\\n\\t\\t\\t\\t\\tb_ReportForm_orig = new Image();\\r\\n\\t\\t\\t\\t\\tb_ReportForm_orig.src = \"/images/templates/b-Report%20Form.jpg\";\\r\\n\\t\\t\\t\\t\\tb_Home = new Image();\\r\\n\\t\\t\\t\\t\\tb_Home.src = \"/images/templates/b-Home_hl.jpg\";\\r\\n\\t\\t\\t\\t\\tb_Home_orig = new Image();\\r\\n\\t\\t\\t\\t\\tb_Home_orig.src = \"/images/templates/b-Home.jpg\";\\r\\n\\t\\t\\t\\t}\\r\\n\\r\\n\\t\\t\\t\\tfunction turnOn(imageName) \\r\\n\\t\\t\\t\\t{\\r\\n\\t\\t\\t\\t\\tif (document.images) \\r\\n\\t\\t\\t\\t\\t{\\r\\n\\t\\t\\t\\t\\t\\tdocument[imageName].src = eval(imageName + \".src\");  \\r\\n\\t\\t\\t\\t\\t}\\r\\n\\t\\t\\t\\t}\\r\\n\\r\\n\\t\\t\\t\\tfunction turnOff(imageName) \\r\\n\\t\\t\\t\\t{  \\r\\n\\t\\t\\t\\t\\tif (document.images) \\r\\n\\t\\t\\t\\t\\t{\\r\\n\\t\\t\\t\\t\\t\\t\\tdocument[imageName].src = eval(imageName + \"_orig.src\");  \\r\\n\\t\\t\\t\\t\\t}\\r\\n\\t\\t\\t\\t}\\r\\n\\t\\t\\t\\t-->\\r\\n\\t\\t\\t</SCRIPT>\\r\\n\\t\\t\\t<SCRIPT language=\"JavaScript1.2\" src=\"/images/templates/bfro_data.asp\"></SCRIPT>\\r\\n\\t\\t\\t<SCRIPT language=\"JavaScript1.2\" src=\"/images/templates/dqm_script.js\"></SCRIPT>\\r\\n\\t\\t\\t<table border=\"0\" align=\"left\" cellpadding=\"0\" cellspacing=\"0\" width=\"780\">\\r\\n\\t\\t\\t\\t<tr>\\r\\n\\t\\t\\t\\t\\t<td width=\"130\" valign=\"top\" align=\"middle\">\\r\\n\\t\\t\\t\\t\\t\\t\\r\\n    <table border=\"0\" align=\"left\" cellpadding=\"0\" cellspacing=\"0\" width=\"130\">\\r\\n      <tr> \\r\\n        <td height=\"130\" width=\"130\" align=\"middle\">  \\r\\n          <a href=\"/\"><img id=\"logo\" alt=\"Bigfoot Field Researchers Organization Logo\" src=\"/images/templates/LogoSpin.gif?\" onMouseOver=\"runLogo();\" height=\"130\" width=\"130\" border=\"0\"></a>\\r\\n          <NOSCRIPT>  <a href=\"/\"><img alt=\"Bigfoot Field Researchers Organization Logo\" src=\"/images/templates/LogoSpin.gif?\" onMouseOver=\"runLogo();\" height=\"130\" width=\"130\" border=\"0\"></a> \\r\\n           </NOSCRIPT>  </td>\\r\\n      </tr>\\r\\n      <tr> \\r\\n        <td align=\"left\" valign=\"top\"> \\r\\n          <table border=\"0\" cellpadding=\"0\" cellspacing=\"0\">\\r\\n            <tr> \\r\\n              <td colspan=\"2\"><IMG SRC=\"/images/templates/Outline_01.gif\" WIDTH=\"130\" HEIGHT=\"15\"></td>\\r\\n            </tr>\\r\\n            <tr> \\r\\n              <td><IMG SRC=\"/images/templates/Outline_02.gif\" WIDTH=\"15\" HEIGHT=\"20\"></td>\\r\\n              <td><A HREF=\"/\" onMouseOver=\"turnOn(\\'b_Home\\');\" onMouseOut=\"turnOff(\\'b_Home\\');\"><IMG NAME=\"b_Home\" SRC=\"/images/templates/b-Home.jpg\" WIDTH=\"130\" HEIGHT=\"20\" BORDER=\"0\"></A></td>\\r\\n            </tr>\\r\\n            <tr> \\r\\n              <td><IMG SRC=\"/images/templates/Outline_02.gif\" WIDTH=\"15\" HEIGHT=\"20\"></td>\\r\\n              <td><A HREF=\"/\"><img border=\"0\" src=\"/images/templates/b-Features.jpg\" width=\"130\" height=\"20\" name=\"menu0\" id=\"menu0\" onMouseOver=\"showMenu(event)\" onMouseOut=\"hideMenu(event)\"></A></td>\\r\\n            </tr>\\r\\n            <tr> \\r\\n              <td><IMG SRC=\"/images/templates/Outline_02.gif\" WIDTH=\"15\" HEIGHT=\"20\"></td>\\r\\n              <td><A HREF=\"/GDB/\"><img border=\"0\" src=\"/images/templates/b-Reports.jpg\" width=\"130\" height=\"20\" name=\"menu1\" id=\"menu1\" onMouseOver=\"showMenu(event)\" onMouseOut=\"hideMenu(event)\"></A></td>\\r\\n            </tr>\\r\\n            <tr> \\r\\n              <td><IMG SRC=\"/images/templates/Outline_02.gif\" WIDTH=\"15\" HEIGHT=\"20\"></td>\\r\\n              <td><A HREF=\"/GDB/newart.asp\" onMouseOver=\"turnOn(\\'b_Media_Articles\\');\" onMouseOut=\"turnOff(\\'b_Media_Articles\\');\"><IMG NAME=\"b_Media_Articles\" SRC=\"/images/templates/b-Media%20Articles.jpg\" WIDTH=\"130\" HEIGHT=\"20\" BORDER=\"0\"></A></td>\\r\\n            </tr>\\r\\n            <tr> \\r\\n              <td><IMG SRC=\"/images/templates/Outline_02.gif\" WIDTH=\"15\" HEIGHT=\"20\"></td>\\r\\n              <td><A HREF=\"/GDB/submitfm.asp\" onMouseOver=\"turnOn(\\'b_ReportForm\\');\" onMouseOut=\"turnOff(\\'b_ReportForm\\');\"><IMG NAME=\"b_ReportForm\" SRC=\"/images/templates/b-Report%20Form.jpg\" WIDTH=\"130\" HEIGHT=\"20\" BORDER=\"0\"></A></td>\\r\\n            </tr>\\r\\n            <tr> \\r\\n              <td><IMG SRC=\"/images/templates/Outline_02.gif\" WIDTH=\"15\" HEIGHT=\"20\"></td>\\r\\n              <td><a href=\"/gdb/show_fAQ.asp?id=405\"><img border=\"0\" src=\"/images/templates/b-FAQs.jpg\" width=\"130\" height=\"20\" name=\"menu2\" id=\"menu2\" onMouseOver=\"showMenu(event)\" onMouseOut=\"hideMenu(event)\"></a></td>\\r\\n            </tr>\\r\\n            <tr> \\r\\n              <td><IMG SRC=\"/images/templates/Outline_02.gif\" WIDTH=\"15\" HEIGHT=\"20\"></td>\\r\\n              <td><a href=\"/GDB/theories.asp\"><img border=\"0\" src=\"/images/templates/b-Departments.jpg\" width=\"130\" height=\"20\" name=\"menu3\" id=\"menu3\" onMouseOver=\"showMenu(event)\" onMouseOut=\"hideMenu(event)\"></a></td>\\r\\n            </tr>\\r\\n            <tr> \\r\\n              <td colspan=\"2\"><IMG SRC=\"/images/templates/Outline_05.gif\" WIDTH=\"130\" HEIGHT=\"15\"></td>\\r\\n            </tr>\\r\\n          </table>\\r\\n        </td>\\r\\n      </tr>\\r\\n      <tr align=\"left\" bordercolor=\"3\"> \\r\\n        <td style=\"padding-right: 13px; padding-left: 13px; font-size: 10pt\"> \\r\\n          <div align=\"left\">&nbsp;<br>\\r\\n            <br>\\r\\n            \\r\\n             </div>\\r\\n        </td></tr>\\r\\n<tr>\\r\\n  <td><a href=\"http://www.bfro.net/news/townhall.asp\"><img src=\"http://www.bfro.net/gdb/images/townhall_sidebar.gif\" alt=\"townhall\" width=\"135\" height=\"141\" border=\"3\"></a><br><br><br>\\r\\n    <a href=\"http://www.bfro.net/news/roundup/expeds_2017.asp\">\\r\\n<img src=\"http://www.bfro.net/gdb/images/exped_2017_map_sidebar.gif\" alt=\"expeds\" width=\"135\" height=\"127\" border=\"3\"></a><br>\\r\\n<!--<br>\\r\\n<br><br>\\r\\n<a href=\"http://www.bfro.net/merchandise/catalog.asp\"><img src=\"http://www.bfro.net/gdb/images/bfro_store_margin_banner.gif\" alt=\"store\" width=\"135\" height=\"81\" border=\"3\"></a>-->\\r\\n<br>\\r\\n<br>\\r\\n<a href=\"http://www.bfro.net/merchandise/catalog.asp\"><img src=\"http://www.bfro.net/gdb/images/margin_icon_store.gif\" alt=\"store\" width=\"135\" height=\"148\" border=\"3\"></a><br>\\r\\n<br><br><br>\\r\\n\\r\\n    <div id=\"google_translate_element\"></div><script>\\r\\nfunction googleTranslateElementInit() {\\r\\n  new google.translate.TranslateElement({\\r\\n    pageLanguage: \\'en\\'\\r\\n  }, \\'google_translate_element\\');\\r\\n}\\r\\n</script><script src=\"//translate.google.com/translate_a/element.js?cb=googleTranslateElementInit\"></script>\\r\\n<br><br>\\r\\n\\r\\n<!-- AddThis Button BEGIN -->\\r\\n<div class=\"addthis_toolbox addthis_default_style \">\\r\\n<a class=\"addthis_button_preferred_1\"></a>\\r\\n<a class=\"addthis_button_preferred_2\"></a>\\r\\n<a class=\"addthis_button_preferred_3\"></a>\\r\\n<a class=\"addthis_button_preferred_4\"></a>\\r\\n<a class=\"addthis_button_compact\"></a>\\r\\n<a class=\"addthis_counter addthis_bubble_style\"></a>\\r\\n</div>\\r\\n<script type=\"text/javascript\">var addthis_config = {\"data_track_clickback\":true};</script>\\r\\n<script type=\"text/javascript\" src=\"http://s7.addthis.com/js/250/addthis_widget.js#pubid=ra-4e017f48386f7ed9\"></script>\\r\\n<!-- AddThis Button END -->\\r\\n\\r\\n\\r\\n\\r\\n</td></tr>\\r\\n\\r\\n\\r\\n    </table>\\r\\n    \\r\\n    \\r\\n\\t\\t\\t\\t\\t\\t<!-- BEGIN CONTENT SECTION -->\\r\\n\\r\\n\\r\\n\\t\\t\\t\\t\\t</td>\\r\\n\\t\\t\\t\\t\\t<td>\\r\\n\\t\\t\\t\\t\\t\\t<img src=\"/images/templates/spacer.gif\" width=\"1\" height=\"400\" align=>\\r\\n\\t\\t\\t\\t\\t</td>\\r\\n\\t\\t\\t\\t\\t<td valign=\"top\" align=\"left\">\\r\\n\\t<table border=0 cellpadding=14 cellspacing=5 width=\"100%\" bgcolor=\"#003333\" ID=\"Table1\">\\r\\n\\t<tr><td>\\r\\n\\r\\n\\t\\t<span style=\"font-size: 10pt\"><a href=\"/gdb/\">Geographical Index</a> &gt; <a href=\"/gdb/#usa\">United States</a> &gt; <a href=\"/GDB/state_listing.asp?state=AK\">Alaska</a> &gt; <a href=\"/GDB/show_county_reports.asp?state=AK&county=Anchorage\">Anchorage County</a> &gt; Report # 13038<br>&nbsp;<br></span>\\r\\n    <span class=reportheader>Report # 13038</span>&nbsp;&nbsp;<span class=reportclassification>(Class A)</span>\\r\\n      <BR>\\r\\n      <span class=field>Submitted  by  witness   on Saturday,&nbsp;November&nbsp;12,&nbsp;2005.</span>\\r\\n    <hr size=\"5\" noshade color=\"#009900\">\\r\\n\\r\\n    <span class=field>Snowmobiler has encounter in deep snow near Potter, AK</span>\\r\\n    <hr size=\"5\" noshade color=\"#009900\">\\r\\n\\r\\n    <span style=\"font-size:10pt\"><a href=\"/GDB/show_report.asp?ID=13038&PrinterFriendly=True\">(Show Printer-friendly Version)</a></span>\\r\\n    \\r\\n    <p><span class=field>YEAR:</span> 2004</p>\\r\\n<p><span class=field>SEASON:</span> Winter</p><p><span class=field>MONTH:</span> February</p><p><span class=field>STATE:</span> <a href=\"/GDB/state_listing.asp?state=AK\">Alaska</a></p><p><span class=field>COUNTY:</span> <a href=\"/GDB/show_county_reports.asp?state=AK&county=Anchorage\">Anchorage County</a></p><p><span class=field>LOCATION DETAILS:</span> Up near powerline clearings east of Potter Marsh in Anchorage.</p><p><span class=field>NEAREST TOWN:</span> Anchorage / Hillside</p><p><span class=field>NEAREST ROAD:</span> No real roads in the area</p><p><span class=field>OBSERVED:</span> I and two of my friends were bored one night so we decided to do a little snowmachining. Though it was illegal to snowmachine in Anchorage, there were some good trails to ride on a little north of my house.  <BR><BR>We took off at probably 11 pm, rode up the road about a quarter mile, and cut off on the trails. It had snowed about 10 inches a few days before so there was fresh snow, with no tracks.  <BR><BR>I was leading the way for about a half hour, then we stopped and talked for a little bit.  We took off again and kept cruising on some sort of game trail that led to an opening in the woods.  I rode off into the opening with my friends following about fifty yards behind me.  <BR><BR>I came over this little mound and saw strange tracks leading to this spot in the snow where it looked like something had pushed aside some snow and layed down.  I figured it was just a moose or something.  But I followed the tracks over the next small hill and as I came down the far side my headlight pointed right on the back of a bigfoot. <BR><BR> It was only about 10 to 12 feet in front of me.  It was running in the opposite direction.  I slammed on the brakes because I was scared out of my mind.  It continued to run away, jumped over a dead log covered in snow and disappeared into a group of trees and into the darkness.  <BR><BR>I was so surprised and scared I quickly turned around and rode back toward my friends. I met them back by the first mound and said \"We need to get out of here,\"  and rode back towards my house.  When I told them about it back near my house, they laughed and told me it was probably a bear or someone in the woods.  But I was 100% positive that is was not a bear or anything else. <BR><BR>The way it was running through the deep snow made me sure that it wasn\\'t anything human.  For a long time I was made fun of and everyone told me I was crazy so I didn\\'t like talking about it.  </p><p><span class=field>ALSO NOTICED:</span> Some tracks in the snow, and a clearing in the fresh snow where it looked like a large animal had pushed snow aside and layed down.</p><p><span class=field>OTHER WITNESSES:</span> My two friends were snowmachining behind me but did not see it. If it had been light outside they might have seen it, but it was pitch black outside. My only light was from my snowmachine.</p><p><span class=field>OTHER STORIES:</span> I have not heard of any other incidents in Anchorage.</p><p><span class=field>TIME AND CONDITIONS:</span> Middle of the night. The only light was the headlight from my snowmachine.</p><p><span class=field>ENVIRONMENT:</span> In the middle of the woods, in a clearing covered in snow, with only small shrubs and bushes sticking out of the snow.  In the middle of the night.</p>\\r\\n    <hr size=\"5\" noshade color=\"#009900\">\\r\\n    <p>Follow-up investigation report by BFRO Investigator Dr. Wolf H. Fahrenbach:</p>\\r\\n    <blockquote>\\r\\n      <p>The animal was running from the approaching snowmobiles. <BR><BR>It was running smoothly with angled elbows, totally unimpeded by the fresh snow, which was about a foot deep and still falling on top of a deeper base. <BR><BR>It was dark brown in color, with a messy, matted coat and no perceptible neck.<BR><BR>The area of the encounter lies near a clear-cut lane for a pipeline and is within about a mile of the Anchorage Coastal Wildlife Refuge and Potter\\'s Marsh in wooded terrain.<BR></p>\\r\\n    </blockquote>\\r\\n\\r\\n    <hr size=\"5\" noshade color=\"#009900\">\\r\\n    <p>About BFRO Investigator Dr. Wolf H. Fahrenbach:</p>\\r\\n    <blockquote>\\r\\n      <p>Hair analysis since 1965.  Field work since 1989. Sasquatch courses given in Oregon and Arizona (3-10 weeks duration); Published in Cryptozoology.</p>\\r\\n    </blockquote>\\r\\n\\r\\n    <hr size=\"5\" noshade color=\"#009900\">\\r\\n\\r\\n    <ul>\\r\\n\\t\\t\\t<li><a href=\"/gdb/classify.asp\">Explanation of the report classification system</a></li>\\r\\n\\t\\t\\t\\r\\n        <li><a href=\"/GDB/submitfm.asp\">Submit a report for the sightings database</a></li>\\r\\n\\t\\t\\t<!--<li><a href=\"/GDB/comments.asp?CommentURL=http%3A%2F%2Fwww%2Ebfro%2Enet%2FGDB%2Fshow%5Freport%2Easp%3Fid%3D13038\">Submit a comment or article</a></li>-->\\r\\n\\t\\t\\t<li>Please send any comments or inquiries to Contact@BFRO.net</li>\\r\\n\\t\\t</ul>\\r\\n\\t\\t</td></tr></table><BR>&nbsp;\\r\\n\\r\\n\\t\\t\\t\\t\\t<!-- END CONTENT SECTION -->\\r\\n\\t\\t\\t\\t</td>\\r\\n\\t\\t\\t</tr>\\r\\n\\t\\t\\t<tr>\\r\\n\\t\\t\\t\\t<td colspan=\"2\" width=\"131\"><img src=\"/images/templates/spacer.gif\" width=\"131\" height=\"1\"></td>\\r\\n\\t\\t\\t\\t<td align=\"left\">&nbsp;&nbsp;<span class=\"smallprint\">Copyright &copy; 2017<!--2017--> BFRO.net</span>\\r\\n\\t\\t\\t\\t<br>&nbsp;\\r\\n\\t\\t\\t\\t<br><img src=\"/images/templates/spacer.gif\" wwidth=\"649\" height=\"1\"></td></tr>\\r\\n\\t\\t</table>\\r\\n\\r\\n<script type=\"text/javascript\">runLogo();</script>\\r\\n\\t</BODY>\\r\\n</HTML>\\r\\n\\r\\n'"
      ]
     },
     "execution_count": 19,
     "metadata": {},
     "output_type": "execute_result"
    }
   ],
   "source": [
    "bf_html[0]"
   ]
  },
  {
   "cell_type": "code",
   "execution_count": 18,
   "metadata": {},
   "outputs": [],
   "source": [
    "ufo_html=[]\n",
    "for report in ufo_reports:\n",
    "    ufo=report['html']\n",
    "    ufo_html.append(ufo)"
   ]
  },
  {
   "cell_type": "code",
   "execution_count": 14,
   "metadata": {},
   "outputs": [],
   "source": [
    "import warnings\n",
    "warnings.filterwarnings('ignore')"
   ]
  },
  {
   "cell_type": "code",
   "execution_count": 15,
   "metadata": {},
   "outputs": [],
   "source": [
    "from pymongo import MongoClient\n",
    "import pprint\n",
    "\n",
    "import copy\n",
    "import pandas as pd\n",
    "\n",
    "# Requests sends and recieves HTTP requests.\n",
    "import requests\n",
    "\n",
    "# Beautiful Soup parses HTML documents in python.\n",
    "from bs4 import BeautifulSoup"
   ]
  },
  {
   "cell_type": "code",
   "execution_count": 115,
   "metadata": {},
   "outputs": [],
   "source": [
    "def get_vals(p):\n",
    "    for part in p[0:10]:\n",
    "        values=[]\n",
    "        print(i)\n",
    "        field=[text for text in part.stripped_strings]\n",
    "        bf_cols=field[0].replace(':', '')\n",
    "        if len(field) == 0:\n",
    "            values.append(0)\n",
    "        else:\n",
    "            values.append(field[1])\n",
    "        return values"
   ]
  },
  {
   "cell_type": "code",
   "execution_count": 116,
   "metadata": {},
   "outputs": [],
   "source": [
    "def beautifulsouper(htmls, parser='html.parser'):\n",
    "    val_arr=[]\n",
    "    for record in bf_html:\n",
    "        soup=BeautifulSoup(record, 'html.parser')\n",
    "        p=soup.find_all('p')\n",
    "        row=get_vals(p)\n",
    "        val_arr.append(row)\n",
    "        return val_arr   "
   ]
  },
  {
   "cell_type": "code",
   "execution_count": 117,
   "metadata": {
    "scrolled": true
   },
   "outputs": [
    {
     "name": "stdout",
     "output_type": "stream",
     "text": [
      "{ \"_id\" : { \"$oid\" : \"59138a397c40e840c123e050\" }, \"url\" : \"http://www.nuforc.org/webreports/133/S133907.html\\n\", \"html\" : \"<html xmlns:v=\\\"urn:schemas-microsoft-com:vml\\\"\\r\\nxmlns:o=\\\"urn:schemas-microsoft-com:office:office\\\"\\r\\nxmlns:w=\\\"urn:schemas-microsoft-com:office:word\\\"\\r\\nxmlns:m=\\\"http://schemas.microsoft.com/office/2004/12/omml\\\"\\r\\nxmlns=\\\"http://www.w3.org/TR/REC-html40\\\">\\r\\n\\r\\n<head>\\r\\n<meta http-equiv=Content-Type content=\\\"text/html; charset=windows-1252\\\">\\r\\n<meta name=ProgId content=Word.Document>\\r\\n<meta name=Generator content=\\\"Microsoft Word 15\\\">\\r\\n<meta name=Originator content=\\\"Microsoft Word 15\\\">\\r\\n<link rel=File-List href=\\\"STemplate_files/filelist.xml\\\">\\r\\n<!--[if gte mso 9]><xml>\\r\\n <o:DocumentProperties>\\r\\n  <o:Author>Christian Stepien</o:Author>\\r\\n  <o:LastAuthor>Christian Stepien</o:LastAuthor>\\r\\n  <o:Revision>3</o:Revision>\\r\\n  <o:TotalTime>1</o:TotalTime>\\r\\n  <o:Created>2014-02-14T21:30:00Z</o:Created>\\r\\n  <o:LastSaved>2014-02-14T21:35:00Z</o:LastSaved>\\r\\n  <o:Pages>1</o:Pages>\\r\\n  <o:Words>58</o:Words>\\r\\n  <o:Characters>331</o:Characters>\\r\\n  <o:Lines>2</o:Lines>\\r\\n  <o:Paragraphs>1</o:Paragraphs>\\r\\n  <o:CharactersWithSpaces>388</o:CharactersWithSpaces>\\r\\n  <o:Version>15.00</o:Version>\\r\\n </o:DocumentProperties>\\r\\n <o:OfficeDocumentSettings>\\r\\n  <o:AllowPNG/>\\r\\n </o:OfficeDocumentSettings>\\r\\n</xml><![endif]-->\\r\\n<link rel=themeData href=\\\"STemplate_files/themedata.thmx\\\">\\r\\n<link rel=colorSchemeMapping href=\\\"STemplate_files/colorschememapping.xml\\\">\\r\\n<!--[if gte mso 9]><xml>\\r\\n <w:WordDocument>\\r\\n  <w:View>Print</w:View>\\r\\n  <w:SpellingState>Clean</w:SpellingState>\\r\\n  <w:GrammarState>Clean</w:GrammarState>\\r\\n  <w:TrackMoves>false</w:TrackMoves>\\r\\n  <w:TrackFormatting/>\\r\\n  <w:ValidateAgainstSchemas/>\\r\\n  <w:SaveIfXMLInvalid>false</w:SaveIfXMLInvalid>\\r\\n  <w:IgnoreMixedContent>false</w:IgnoreMixedContent>\\r\\n  <w:AlwaysShowPlaceholderText>false</w:AlwaysShowPlaceholderText>\\r\\n  <w:DoNotPromoteQF/>\\r\\n  <w:LidThemeOther>EN-US</w:LidThemeOther>\\r\\n  <w:LidThemeAsian>X-NONE</w:LidThemeAsian>\\r\\n  <w:LidThemeComplexScript>X-NONE</w:LidThemeComplexScript>\\r\\n  <w:Compatibility>\\r\\n   <w:BreakWrappedTables/>\\r\\n   <w:SplitPgBreakAndParaMark/>\\r\\n  </w:Compatibility>\\r\\n  <w:BrowserLevel>MicrosoftInternetExplorer4</w:BrowserLevel>\\r\\n  <m:mathPr>\\r\\n   <m:mathFont m:val=\\\"Cambria Math\\\"/>\\r\\n   <m:brkBin m:val=\\\"before\\\"/>\\r\\n   <m:brkBinSub m:val=\\\"&#45;-\\\"/>\\r\\n   <m:smallFrac m:val=\\\"off\\\"/>\\r\\n   <m:dispDef/>\\r\\n   <m:lMargin m:val=\\\"0\\\"/>\\r\\n   <m:rMargin m:val=\\\"0\\\"/>\\r\\n   <m:defJc m:val=\\\"centerGroup\\\"/>\\r\\n   <m:wrapIndent m:val=\\\"1440\\\"/>\\r\\n   <m:intLim m:val=\\\"subSup\\\"/>\\r\\n   <m:naryLim m:val=\\\"undOvr\\\"/>\\r\\n  </m:mathPr></w:WordDocument>\\r\\n</xml><![endif]--><!--[if gte mso 9]><xml>\\r\\n <w:LatentStyles DefLockedState=\\\"false\\\" DefUnhideWhenUsed=\\\"false\\\"\\r\\n  DefSemiHidden=\\\"false\\\" DefQFormat=\\\"false\\\" DefPriority=\\\"99\\\"\\r\\n  LatentStyleCount=\\\"371\\\">\\r\\n  <w:LsdException Locked=\\\"false\\\" Priority=\\\"0\\\" QFormat=\\\"true\\\" Name=\\\"Normal\\\"/>\\r\\n  <w:LsdException Locked=\\\"false\\\" Priority=\\\"9\\\" QFormat=\\\"true\\\" Name=\\\"heading 1\\\"/>\\r\\n  <w:LsdException Locked=\\\"false\\\" Priority=\\\"9\\\" SemiHidden=\\\"true\\\"\\r\\n   UnhideWhenUsed=\\\"true\\\" QFormat=\\\"true\\\" Name=\\\"heading 2\\\"/>\\r\\n  <w:LsdException Locked=\\\"false\\\" Priority=\\\"9\\\" SemiHidden=\\\"true\\\"\\r\\n   UnhideWhenUsed=\\\"true\\\" QFormat=\\\"true\\\" Name=\\\"heading 3\\\"/>\\r\\n  <w:LsdException Locked=\\\"false\\\" Priority=\\\"9\\\" SemiHidden=\\\"true\\\"\\r\\n   UnhideWhenUsed=\\\"true\\\" QFormat=\\\"true\\\" Name=\\\"heading 4\\\"/>\\r\\n  <w:LsdException Locked=\\\"false\\\" Priority=\\\"9\\\" SemiHidden=\\\"true\\\"\\r\\n   UnhideWhenUsed=\\\"true\\\" QFormat=\\\"true\\\" Name=\\\"heading 5\\\"/>\\r\\n  <w:LsdException Locked=\\\"false\\\" Priority=\\\"9\\\" SemiHidden=\\\"true\\\"\\r\\n   UnhideWhenUsed=\\\"true\\\" QFormat=\\\"true\\\" Name=\\\"heading 6\\\"/>\\r\\n  <w:LsdException Locked=\\\"false\\\" Priority=\\\"9\\\" SemiHidden=\\\"true\\\"\\r\\n   UnhideWhenUsed=\\\"true\\\" QFormat=\\\"true\\\" Name=\\\"heading 7\\\"/>\\r\\n  <w:LsdException Locked=\\\"false\\\" Priority=\\\"9\\\" SemiHidden=\\\"true\\\"\\r\\n   UnhideWhenUsed=\\\"true\\\" QFormat=\\\"true\\\" Name=\\\"heading 8\\\"/>\\r\\n  <w:LsdException Locked=\\\"false\\\" Priority=\\\"9\\\" SemiHidden=\\\"true\\\"\\r\\n   UnhideWhenUsed=\\\"true\\\" QFormat=\\\"true\\\" Name=\\\"heading 9\\\"/>\\r\\n  <w:LsdException Locked=\\\"false\\\" SemiHidden=\\\"true\\\" UnhideWhenUsed=\\\"true\\\"\\r\\n   Name=\\\"index 1\\\"/>\\r\\n  <w:LsdException Locked=\\\"false\\\" SemiHidden=\\\"true\\\" UnhideWhenUsed=\\\"true\\\"\\r\\n   Name=\\\"index 2\\\"/>\\r\\n  <w:LsdException Locked=\\\"false\\\" SemiHidden=\\\"true\\\" UnhideWhenUsed=\\\"true\\\"\\r\\n   Name=\\\"index 3\\\"/>\\r\\n  <w:LsdException Locked=\\\"false\\\" SemiHidden=\\\"true\\\" UnhideWhenUsed=\\\"true\\\"\\r\\n   Name=\\\"index 4\\\"/>\\r\\n  <w:LsdException Locked=\\\"false\\\" SemiHidden=\\\"true\\\" UnhideWhenUsed=\\\"true\\\"\\r\\n   Name=\\\"index 5\\\"/>\\r\\n  <w:LsdException Locked=\\\"false\\\" SemiHidden=\\\"true\\\" UnhideWhenUsed=\\\"true\\\"\\r\\n   Name=\\\"index 6\\\"/>\\r\\n  <w:LsdException Locked=\\\"false\\\" SemiHidden=\\\"true\\\" UnhideWhenUsed=\\\"true\\\"\\r\\n   Name=\\\"index 7\\\"/>\\r\\n  <w:LsdException Locked=\\\"false\\\" SemiHidden=\\\"true\\\" UnhideWhenUsed=\\\"true\\\"\\r\\n   Name=\\\"index 8\\\"/>\\r\\n  <w:LsdException Locked=\\\"false\\\" SemiHidden=\\\"true\\\" UnhideWhenUsed=\\\"true\\\"\\r\\n   Name=\\\"index 9\\\"/>\\r\\n  <w:LsdException Locked=\\\"false\\\" Priority=\\\"39\\\" SemiHidden=\\\"true\\\"\\r\\n   UnhideWhenUsed=\\\"true\\\" Name=\\\"toc 1\\\"/>\\r\\n  <w:LsdException Locked=\\\"false\\\" Priority=\\\"39\\\" SemiHidden=\\\"true\\\"\\r\\n   UnhideWhenUsed=\\\"true\\\" Name=\\\"toc 2\\\"/>\\r\\n  <w:LsdException Locked=\\\"false\\\" Priority=\\\"39\\\" SemiHidden=\\\"true\\\"\\r\\n   UnhideWhenUsed=\\\"true\\\" Name=\\\"toc 3\\\"/>\\r\\n  <w:LsdException Locked=\\\"false\\\" Priority=\\\"39\\\" SemiHidden=\\\"true\\\"\\r\\n   UnhideWhenUsed=\\\"true\\\" Name=\\\"toc 4\\\"/>\\r\\n  <w:LsdException Locked=\\\"false\\\" Priority=\\\"39\\\" SemiHidden=\\\"true\\\"\\r\\n   UnhideWhenUsed=\\\"true\\\" Name=\\\"toc 5\\\"/>\\r\\n  <w:LsdException Locked=\\\"false\\\" Priority=\\\"39\\\" SemiHidden=\\\"true\\\"\\r\\n   UnhideWhenUsed=\\\"true\\\" Name=\\\"toc 6\\\"/>\\r\\n  <w:LsdException Locked=\\\"false\\\" Priority=\\\"39\\\" SemiHidden=\\\"true\\\"\\r\\n   UnhideWhenUsed=\\\"true\\\" Name=\\\"toc 7\\\"/>\\r\\n  <w:LsdException Locked=\\\"false\\\" Priority=\\\"39\\\" SemiHidden=\\\"true\\\"\\r\\n   UnhideWhenUsed=\\\"true\\\" Name=\\\"toc 8\\\"/>\\r\\n  <w:LsdException Locked=\\\"false\\\" Priority=\\\"39\\\" SemiHidden=\\\"true\\\"\\r\\n   UnhideWhenUsed=\\\"true\\\" Name=\\\"toc 9\\\"/>\\r\\n  <w:LsdException Locked=\\\"false\\\" SemiHidden=\\\"true\\\" UnhideWhenUsed=\\\"true\\\"\\r\\n   Name=\\\"Normal Indent\\\"/>\\r\\n  <w:LsdException Locked=\\\"false\\\" SemiHidden=\\\"true\\\" UnhideWhenUsed=\\\"true\\\"\\r\\n   Name=\\\"footnote text\\\"/>\\r\\n  <w:LsdException Locked=\\\"false\\\" SemiHidden=\\\"true\\\" UnhideWhenUsed=\\\"true\\\"\\r\\n   Name=\\\"annotation text\\\"/>\\r\\n  <w:LsdException Locked=\\\"false\\\" SemiHidden=\\\"true\\\" UnhideWhenUsed=\\\"true\\\"\\r\\n   Name=\\\"header\\\"/>\\r\\n  <w:LsdException Locked=\\\"false\\\" SemiHidden=\\\"true\\\" UnhideWhenUsed=\\\"true\\\"\\r\\n   Name=\\\"footer\\\"/>\\r\\n  <w:LsdException Locked=\\\"false\\\" SemiHidden=\\\"true\\\" UnhideWhenUsed=\\\"true\\\"\\r\\n   Name=\\\"index heading\\\"/>\\r\\n  <w:LsdException Locked=\\\"false\\\" Priority=\\\"35\\\" SemiHidden=\\\"true\\\"\\r\\n   UnhideWhenUsed=\\\"true\\\" QFormat=\\\"true\\\" Name=\\\"caption\\\"/>\\r\\n  <w:LsdException Locked=\\\"false\\\" SemiHidden=\\\"true\\\" UnhideWhenUsed=\\\"true\\\"\\r\\n   Name=\\\"table of figures\\\"/>\\r\\n  <w:LsdException Locked=\\\"false\\\" SemiHidden=\\\"true\\\" UnhideWhenUsed=\\\"true\\\"\\r\\n   Name=\\\"envelope address\\\"/>\\r\\n  <w:LsdException Locked=\\\"false\\\" SemiHidden=\\\"true\\\" UnhideWhenUsed=\\\"true\\\"\\r\\n   Name=\\\"envelope return\\\"/>\\r\\n  <w:LsdException Locked=\\\"false\\\" SemiHidden=\\\"true\\\" UnhideWhenUsed=\\\"true\\\"\\r\\n   Name=\\\"footnote reference\\\"/>\\r\\n  <w:LsdException Locked=\\\"false\\\" SemiHidden=\\\"true\\\" UnhideWhenUsed=\\\"true\\\"\\r\\n   Name=\\\"annotation reference\\\"/>\\r\\n  <w:LsdException Locked=\\\"false\\\" SemiHidden=\\\"true\\\" UnhideWhenUsed=\\\"true\\\"\\r\\n   Name=\\\"line number\\\"/>\\r\\n  <w:LsdException Locked=\\\"false\\\" SemiHidden=\\\"true\\\" UnhideWhenUsed=\\\"true\\\"\\r\\n   Name=\\\"page number\\\"/>\\r\\n  <w:LsdException Locked=\\\"false\\\" SemiHidden=\\\"true\\\" UnhideWhenUsed=\\\"true\\\"\\r\\n   Name=\\\"endnote reference\\\"/>\\r\\n  <w:LsdException Locked=\\\"false\\\" SemiHidden=\\\"true\\\" UnhideWhenUsed=\\\"true\\\"\\r\\n   Name=\\\"endnote text\\\"/>\\r\\n  <w:LsdException Locked=\\\"false\\\" SemiHidden=\\\"true\\\" UnhideWhenUsed=\\\"true\\\"\\r\\n   Name=\\\"table of authorities\\\"/>\\r\\n  <w:LsdException Locked=\\\"false\\\" SemiHidden=\\\"true\\\" UnhideWhenUsed=\\\"true\\\"\\r\\n   Name=\\\"macro\\\"/>\\r\\n  <w:LsdException Locked=\\\"false\\\" SemiHidden=\\\"true\\\" UnhideWhenUsed=\\\"true\\\"\\r\\n   Name=\\\"toa heading\\\"/>\\r\\n  <w:LsdException Locked=\\\"false\\\" SemiHidden=\\\"true\\\" UnhideWhenUsed=\\\"true\\\"\\r\\n   Name=\\\"List\\\"/>\\r\\n  <w:LsdException Locked=\\\"false\\\" SemiHidden=\\\"true\\\" UnhideWhenUsed=\\\"true\\\"\\r\\n   Name=\\\"List Bullet\\\"/>\\r\\n  <w:LsdException Locked=\\\"false\\\" SemiHidden=\\\"true\\\" UnhideWhenUsed=\\\"true\\\"\\r\\n   Name=\\\"List Number\\\"/>\\r\\n  <w:LsdException Locked=\\\"false\\\" SemiHidden=\\\"true\\\" UnhideWhenUsed=\\\"true\\\"\\r\\n   Name=\\\"List 2\\\"/>\\r\\n  <w:LsdException Locked=\\\"false\\\" SemiHidden=\\\"true\\\" UnhideWhenUsed=\\\"true\\\"\\r\\n   Name=\\\"List 3\\\"/>\\r\\n  <w:LsdException Locked=\\\"false\\\" SemiHidden=\\\"true\\\" UnhideWhenUsed=\\\"true\\\"\\r\\n   Name=\\\"List 4\\\"/>\\r\\n  <w:LsdException Locked=\\\"false\\\" SemiHidden=\\\"true\\\" UnhideWhenUsed=\\\"true\\\"\\r\\n   Name=\\\"List 5\\\"/>\\r\\n  <w:LsdException Locked=\\\"false\\\" SemiHidden=\\\"true\\\" UnhideWhenUsed=\\\"true\\\"\\r\\n   Name=\\\"List Bullet 2\\\"/>\\r\\n  <w:LsdException Locked=\\\"false\\\" SemiHidden=\\\"true\\\" UnhideWhenUsed=\\\"true\\\"\\r\\n   Name=\\\"List Bullet 3\\\"/>\\r\\n  <w:LsdException Locked=\\\"false\\\" SemiHidden=\\\"true\\\" UnhideWhenUsed=\\\"true\\\"\\r\\n   Name=\\\"List Bullet 4\\\"/>\\r\\n  <w:LsdException Locked=\\\"false\\\" SemiHidden=\\\"true\\\" UnhideWhenUsed=\\\"true\\\"\\r\\n   Name=\\\"List Bullet 5\\\"/>\\r\\n  <w:LsdException Locked=\\\"false\\\" SemiHidden=\\\"true\\\" UnhideWhenUsed=\\\"true\\\"\\r\\n   Name=\\\"List Number 2\\\"/>\\r\\n  <w:LsdException Locked=\\\"false\\\" SemiHidden=\\\"true\\\" UnhideWhenUsed=\\\"true\\\"\\r\\n   Name=\\\"List Number 3\\\"/>\\r\\n  <w:LsdException Locked=\\\"false\\\" SemiHidden=\\\"true\\\" UnhideWhenUsed=\\\"true\\\"\\r\\n   Name=\\\"List Number 4\\\"/>\\r\\n  <w:LsdException Locked=\\\"false\\\" SemiHidden=\\\"true\\\" UnhideWhenUsed=\\\"true\\\"\\r\\n   Name=\\\"List Number 5\\\"/>\\r\\n  <w:LsdException Locked=\\\"false\\\" Priority=\\\"10\\\" QFormat=\\\"true\\\" Name=\\\"Title\\\"/>\\r\\n  <w:LsdException Locked=\\\"false\\\" SemiHidden=\\\"true\\\" UnhideWhenUsed=\\\"true\\\"\\r\\n   Name=\\\"Closing\\\"/>\\r\\n  <w:LsdException Locked=\\\"false\\\" SemiHidden=\\\"true\\\" UnhideWhenUsed=\\\"true\\\"\\r\\n   Name=\\\"Signature\\\"/>\\r\\n  <w:LsdException Locked=\\\"false\\\" Priority=\\\"1\\\" SemiHidden=\\\"true\\\"\\r\\n   UnhideWhenUsed=\\\"true\\\" Name=\\\"Default Paragraph Font\\\"/>\\r\\n  <w:LsdException Locked=\\\"false\\\" SemiHidden=\\\"true\\\" UnhideWhenUsed=\\\"true\\\"\\r\\n   Name=\\\"Body Text\\\"/>\\r\\n  <w:LsdException Locked=\\\"false\\\" SemiHidden=\\\"true\\\" UnhideWhenUsed=\\\"true\\\"\\r\\n   Name=\\\"Body Text Indent\\\"/>\\r\\n  <w:LsdException Locked=\\\"false\\\" SemiHidden=\\\"true\\\" UnhideWhenUsed=\\\"true\\\"\\r\\n   Name=\\\"List Continue\\\"/>\\r\\n  <w:LsdException Locked=\\\"false\\\" SemiHidden=\\\"true\\\" UnhideWhenUsed=\\\"true\\\"\\r\\n   Name=\\\"List Continue 2\\\"/>\\r\\n  <w:LsdException Locked=\\\"false\\\" SemiHidden=\\\"true\\\" UnhideWhenUsed=\\\"true\\\"\\r\\n   Name=\\\"List Continue 3\\\"/>\\r\\n  <w:LsdException Locked=\\\"false\\\" SemiHidden=\\\"true\\\" UnhideWhenUsed=\\\"true\\\"\\r\\n   Name=\\\"List Continue 4\\\"/>\\r\\n  <w:LsdException Locked=\\\"false\\\" SemiHidden=\\\"true\\\" UnhideWhenUsed=\\\"true\\\"\\r\\n   Name=\\\"List Continue 5\\\"/>\\r\\n  <w:LsdException Locked=\\\"false\\\" SemiHidden=\\\"true\\\" UnhideWhenUsed=\\\"true\\\"\\r\\n   Name=\\\"Message Header\\\"/>\\r\\n  <w:LsdException Locked=\\\"false\\\" Priority=\\\"11\\\" QFormat=\\\"true\\\" Name=\\\"Subtitle\\\"/>\\r\\n  <w:LsdException Locked=\\\"false\\\" SemiHidden=\\\"true\\\" UnhideWhenUsed=\\\"true\\\"\\r\\n   Name=\\\"Salutation\\\"/>\\r\\n  <w:LsdException Locked=\\\"false\\\" SemiHidden=\\\"true\\\" UnhideWhenUsed=\\\"true\\\"\\r\\n   Name=\\\"Date\\\"/>\\r\\n  <w:LsdException Locked=\\\"false\\\" SemiHidden=\\\"true\\\" UnhideWhenUsed=\\\"true\\\"\\r\\n   Name=\\\"Body Text First Indent\\\"/>\\r\\n  <w:LsdException Locked=\\\"false\\\" SemiHidden=\\\"true\\\" UnhideWhenUsed=\\\"true\\\"\\r\\n   Name=\\\"Body Text First Indent 2\\\"/>\\r\\n  <w:LsdException Locked=\\\"false\\\" SemiHidden=\\\"true\\\" UnhideWhenUsed=\\\"true\\\"\\r\\n   Name=\\\"Note Heading\\\"/>\\r\\n  <w:LsdException Locked=\\\"false\\\" SemiHidden=\\\"true\\\" UnhideWhenUsed=\\\"true\\\"\\r\\n   Name=\\\"Body Text 2\\\"/>\\r\\n  <w:LsdException Locked=\\\"false\\\" SemiHidden=\\\"true\\\" UnhideWhenUsed=\\\"true\\\"\\r\\n   Name=\\\"Body Text 3\\\"/>\\r\\n  <w:LsdException Locked=\\\"false\\\" SemiHidden=\\\"true\\\" UnhideWhenUsed=\\\"true\\\"\\r\\n   Name=\\\"Body Text Indent 2\\\"/>\\r\\n  <w:LsdException Locked=\\\"false\\\" SemiHidden=\\\"true\\\" UnhideWhenUsed=\\\"true\\\"\\r\\n   Name=\\\"Body Text Indent 3\\\"/>\\r\\n  <w:LsdException Locked=\\\"false\\\" SemiHidden=\\\"true\\\" UnhideWhenUsed=\\\"true\\\"\\r\\n   Name=\\\"Block Text\\\"/>\\r\\n  <w:LsdException Locked=\\\"false\\\" SemiHidden=\\\"true\\\" UnhideWhenUsed=\\\"true\\\"\\r\\n   Name=\\\"Hyperlink\\\"/>\\r\\n  <w:LsdException Locked=\\\"false\\\" SemiHidden=\\\"true\\\" UnhideWhenUsed=\\\"true\\\"\\r\\n   Name=\\\"FollowedHyperlink\\\"/>\\r\\n  <w:LsdException Locked=\\\"false\\\" Priority=\\\"22\\\" QFormat=\\\"true\\\" Name=\\\"Strong\\\"/>\\r\\n  <w:LsdException Locked=\\\"false\\\" Priority=\\\"20\\\" QFormat=\\\"true\\\" Name=\\\"Emphasis\\\"/>\\r\\n  <w:LsdException Locked=\\\"false\\\" SemiHidden=\\\"true\\\" UnhideWhenUsed=\\\"true\\\"\\r\\n   Name=\\\"Document Map\\\"/>\\r\\n  <w:LsdException Locked=\\\"false\\\" SemiHidden=\\\"true\\\" UnhideWhenUsed=\\\"true\\\"\\r\\n   Name=\\\"Plain Text\\\"/>\\r\\n  <w:LsdException Locked=\\\"false\\\" SemiHidden=\\\"true\\\" UnhideWhenUsed=\\\"true\\\"\\r\\n   Name=\\\"E-mail Signature\\\"/>\\r\\n  <w:LsdException Locked=\\\"false\\\" SemiHidden=\\\"true\\\" UnhideWhenUsed=\\\"true\\\"\\r\\n   Name=\\\"HTML Top of Form\\\"/>\\r\\n  <w:LsdException Locked=\\\"false\\\" SemiHidden=\\\"true\\\" UnhideWhenUsed=\\\"true\\\"\\r\\n   Name=\\\"HTML Bottom of Form\\\"/>\\r\\n  <w:LsdException Locked=\\\"false\\\" SemiHidden=\\\"true\\\" UnhideWhenUsed=\\\"true\\\"\\r\\n   Name=\\\"Normal (Web)\\\"/>\\r\\n  <w:LsdException Locked=\\\"false\\\" SemiHidden=\\\"true\\\" UnhideWhenUsed=\\\"true\\\"\\r\\n   Name=\\\"HTML Acronym\\\"/>\\r\\n  <w:LsdException Locked=\\\"false\\\" SemiHidden=\\\"true\\\" UnhideWhenUsed=\\\"true\\\"\\r\\n   Name=\\\"HTML Address\\\"/>\\r\\n  <w:LsdException Locked=\\\"false\\\" SemiHidden=\\\"true\\\" UnhideWhenUsed=\\\"true\\\"\\r\\n   Name=\\\"HTML Cite\\\"/>\\r\\n  <w:LsdException Locked=\\\"false\\\" SemiHidden=\\\"true\\\" UnhideWhenUsed=\\\"true\\\"\\r\\n   Name=\\\"HTML Code\\\"/>\\r\\n  <w:LsdException Locked=\\\"false\\\" SemiHidden=\\\"true\\\" UnhideWhenUsed=\\\"true\\\"\\r\\n   Name=\\\"HTML Definition\\\"/>\\r\\n  <w:LsdException Locked=\\\"false\\\" SemiHidden=\\\"true\\\" UnhideWhenUsed=\\\"true\\\"\\r\\n   Name=\\\"HTML Keyboard\\\"/>\\r\\n  <w:LsdException Locked=\\\"false\\\" SemiHidden=\\\"true\\\" UnhideWhenUsed=\\\"true\\\"\\r\\n   Name=\\\"HTML Preformatted\\\"/>\\r\\n  <w:LsdException Locked=\\\"false\\\" SemiHidden=\\\"true\\\" UnhideWhenUsed=\\\"true\\\"\\r\\n   Name=\\\"HTML Sample\\\"/>\\r\\n  <w:LsdException Locked=\\\"false\\\" SemiHidden=\\\"true\\\" UnhideWhenUsed=\\\"true\\\"\\r\\n   Name=\\\"HTML Typewriter\\\"/>\\r\\n  <w:LsdException Locked=\\\"false\\\" SemiHidden=\\\"true\\\" UnhideWhenUsed=\\\"true\\\"\\r\\n   Name=\\\"HTML Variable\\\"/>\\r\\n  <w:LsdException Locked=\\\"false\\\" SemiHidden=\\\"true\\\" UnhideWhenUsed=\\\"true\\\"\\r\\n   Name=\\\"Normal Table\\\"/>\\r\\n  <w:LsdException Locked=\\\"false\\\" SemiHidden=\\\"true\\\" UnhideWhenUsed=\\\"true\\\"\\r\\n   Name=\\\"annotation subject\\\"/>\\r\\n  <w:LsdException Locked=\\\"false\\\" SemiHidden=\\\"true\\\" UnhideWhenUsed=\\\"true\\\"\\r\\n   Name=\\\"No List\\\"/>\\r\\n  <w:LsdException Locked=\\\"false\\\" SemiHidden=\\\"true\\\" UnhideWhenUsed=\\\"true\\\"\\r\\n   Name=\\\"Outline List 1\\\"/>\\r\\n  <w:LsdException Locked=\\\"false\\\" SemiHidden=\\\"true\\\" UnhideWhenUsed=\\\"true\\\"\\r\\n   Name=\\\"Outline List 2\\\"/>\\r\\n  <w:LsdException Locked=\\\"false\\\" SemiHidden=\\\"true\\\" UnhideWhenUsed=\\\"true\\\"\\r\\n   Name=\\\"Outline List 3\\\"/>\\r\\n  <w:LsdException Locked=\\\"false\\\" SemiHidden=\\\"true\\\" UnhideWhenUsed=\\\"true\\\"\\r\\n   Name=\\\"Table Simple 1\\\"/>\\r\\n  <w:LsdException Locked=\\\"false\\\" SemiHidden=\\\"true\\\" UnhideWhenUsed=\\\"true\\\"\\r\\n   Name=\\\"Table Simple 2\\\"/>\\r\\n  <w:LsdException Locked=\\\"false\\\" SemiHidden=\\\"true\\\" UnhideWhenUsed=\\\"true\\\"\\r\\n   Name=\\\"Table Simple 3\\\"/>\\r\\n  <w:LsdException Locked=\\\"false\\\" SemiHidden=\\\"true\\\" UnhideWhenUsed=\\\"true\\\"\\r\\n   Name=\\\"Table Classic 1\\\"/>\\r\\n  <w:LsdException Locked=\\\"false\\\" SemiHidden=\\\"true\\\" UnhideWhenUsed=\\\"true\\\"\\r\\n   Name=\\\"Table Classic 2\\\"/>\\r\\n  <w:LsdException Locked=\\\"false\\\" SemiHidden=\\\"true\\\" UnhideWhenUsed=\\\"true\\\"\\r\\n   Name=\\\"Table Classic 3\\\"/>\\r\\n  <w:LsdException Locked=\\\"false\\\" SemiHidden=\\\"true\\\" UnhideWhenUsed=\\\"true\\\"\\r\\n   Name=\\\"Table Classic 4\\\"/>\\r\\n  <w:LsdException Locked=\\\"false\\\" SemiHidden=\\\"true\\\" UnhideWhenUsed=\\\"true\\\"\\r\\n   Name=\\\"Table Colorful 1\\\"/>\\r\\n  <w:LsdException Locked=\\\"false\\\" SemiHidden=\\\"true\\\" UnhideWhenUsed=\\\"true\\\"\\r\\n   Name=\\\"Table Colorful 2\\\"/>\\r\\n  <w:LsdException Locked=\\\"false\\\" SemiHidden=\\\"true\\\" UnhideWhenUsed=\\\"true\\\"\\r\\n   Name=\\\"Table Colorful 3\\\"/>\\r\\n  <w:LsdException Locked=\\\"false\\\" SemiHidden=\\\"true\\\" UnhideWhenUsed=\\\"true\\\"\\r\\n   Name=\\\"Table Columns 1\\\"/>\\r\\n  <w:LsdException Locked=\\\"false\\\" SemiHidden=\\\"true\\\" UnhideWhenUsed=\\\"true\\\"\\r\\n   Name=\\\"Table Columns 2\\\"/>\\r\\n  <w:LsdException Locked=\\\"false\\\" SemiHidden=\\\"true\\\" UnhideWhenUsed=\\\"true\\\"\\r\\n   Name=\\\"Table Columns 3\\\"/>\\r\\n  <w:LsdException Locked=\\\"false\\\" SemiHidden=\\\"true\\\" UnhideWhenUsed=\\\"true\\\"\\r\\n   Name=\\\"Table Columns 4\\\"/>\\r\\n  <w:LsdException Locked=\\\"false\\\" SemiHidden=\\\"true\\\" UnhideWhenUsed=\\\"true\\\"\\r\\n   Name=\\\"Table Columns 5\\\"/>\\r\\n  <w:LsdException Locked=\\\"false\\\" SemiHidden=\\\"true\\\" UnhideWhenUsed=\\\"true\\\"\\r\\n   Name=\\\"Table Grid 1\\\"/>\\r\\n  <w:LsdException Locked=\\\"false\\\" SemiHidden=\\\"true\\\" UnhideWhenUsed=\\\"true\\\"\\r\\n   Name=\\\"Table Grid 2\\\"/>\\r\\n  <w:LsdException Locked=\\\"false\\\" SemiHidden=\\\"true\\\" UnhideWhenUsed=\\\"true\\\"\\r\\n   Name=\\\"Table Grid 3\\\"/>\\r\\n  <w:LsdException Locked=\\\"false\\\" SemiHidden=\\\"true\\\" UnhideWhenUsed=\\\"true\\\"\\r\\n   Name=\\\"Table Grid 4\\\"/>\\r\\n  <w:LsdException Locked=\\\"false\\\" SemiHidden=\\\"true\\\" UnhideWhenUsed=\\\"true\\\"\\r\\n   Name=\\\"Table Grid 5\\\"/>\\r\\n  <w:LsdException Locked=\\\"false\\\" SemiHidden=\\\"true\\\" UnhideWhenUsed=\\\"true\\\"\\r\\n   Name=\\\"Table Grid 6\\\"/>\\r\\n  <w:LsdException Locked=\\\"false\\\" SemiHidden=\\\"true\\\" UnhideWhenUsed=\\\"true\\\"\\r\\n   Name=\\\"Table Grid 7\\\"/>\\r\\n  <w:LsdException Locked=\\\"false\\\" SemiHidden=\\\"true\\\" UnhideWhenUsed=\\\"true\\\"\\r\\n   Name=\\\"Table Grid 8\\\"/>\\r\\n  <w:LsdException Locked=\\\"false\\\" SemiHidden=\\\"true\\\" UnhideWhenUsed=\\\"true\\\"\\r\\n   Name=\\\"Table List 1\\\"/>\\r\\n  <w:LsdException Locked=\\\"false\\\" SemiHidden=\\\"true\\\" UnhideWhenUsed=\\\"true\\\"\\r\\n   Name=\\\"Table List 2\\\"/>\\r\\n  <w:LsdException Locked=\\\"false\\\" SemiHidden=\\\"true\\\" UnhideWhenUsed=\\\"true\\\"\\r\\n   Name=\\\"Table List 3\\\"/>\\r\\n  <w:LsdException Locked=\\\"false\\\" SemiHidden=\\\"true\\\" UnhideWhenUsed=\\\"true\\\"\\r\\n   Name=\\\"Table List 4\\\"/>\\r\\n  <w:LsdException Locked=\\\"false\\\" SemiHidden=\\\"true\\\" UnhideWhenUsed=\\\"true\\\"\\r\\n   Name=\\\"Table List 5\\\"/>\\r\\n  <w:LsdException Locked=\\\"false\\\" SemiHidden=\\\"true\\\" UnhideWhenUsed=\\\"true\\\"\\r\\n   Name=\\\"Table List 6\\\"/>\\r\\n  <w:LsdException Locked=\\\"false\\\" SemiHidden=\\\"true\\\" UnhideWhenUsed=\\\"true\\\"\\r\\n   Name=\\\"Table List 7\\\"/>\\r\\n  <w:LsdException Locked=\\\"false\\\" SemiHidden=\\\"true\\\" UnhideWhenUsed=\\\"true\\\"\\r\\n   Name=\\\"Table List 8\\\"/>\\r\\n  <w:LsdException Locked=\\\"false\\\" SemiHidden=\\\"true\\\" UnhideWhenUsed=\\\"true\\\"\\r\\n   Name=\\\"Table 3D effects 1\\\"/>\\r\\n  <w:LsdException Locked=\\\"false\\\" SemiHidden=\\\"true\\\" UnhideWhenUsed=\\\"true\\\"\\r\\n   Name=\\\"Table 3D effects 2\\\"/>\\r\\n  <w:LsdException Locked=\\\"false\\\" SemiHidden=\\\"true\\\" UnhideWhenUsed=\\\"true\\\"\\r\\n   Name=\\\"Table 3D effects 3\\\"/>\\r\\n  <w:LsdException Locked=\\\"false\\\" SemiHidden=\\\"true\\\" UnhideWhenUsed=\\\"true\\\"\\r\\n   Name=\\\"Table Contemporary\\\"/>\\r\\n  <w:LsdException Locked=\\\"false\\\" SemiHidden=\\\"true\\\" UnhideWhenUsed=\\\"true\\\"\\r\\n   Name=\\\"Table Elegant\\\"/>\\r\\n  <w:LsdException Locked=\\\"false\\\" SemiHidden=\\\"true\\\" UnhideWhenUsed=\\\"true\\\"\\r\\n   Name=\\\"Table Professional\\\"/>\\r\\n  <w:LsdException Locked=\\\"false\\\" SemiHidden=\\\"true\\\" UnhideWhenUsed=\\\"true\\\"\\r\\n   Name=\\\"Table Subtle 1\\\"/>\\r\\n  <w:LsdException Locked=\\\"false\\\" SemiHidden=\\\"true\\\" UnhideWhenUsed=\\\"true\\\"\\r\\n   Name=\\\"Table Subtle 2\\\"/>\\r\\n  <w:LsdException Locked=\\\"false\\\" SemiHidden=\\\"true\\\" UnhideWhenUsed=\\\"true\\\"\\r\\n   Name=\\\"Table Web 1\\\"/>\\r\\n  <w:LsdException Locked=\\\"false\\\" SemiHidden=\\\"true\\\" UnhideWhenUsed=\\\"true\\\"\\r\\n   Name=\\\"Table Web 2\\\"/>\\r\\n  <w:LsdException Locked=\\\"false\\\" SemiHidden=\\\"true\\\" UnhideWhenUsed=\\\"true\\\"\\r\\n   Name=\\\"Table Web 3\\\"/>\\r\\n  <w:LsdException Locked=\\\"false\\\" SemiHidden=\\\"true\\\" UnhideWhenUsed=\\\"true\\\"\\r\\n   Name=\\\"Balloon Text\\\"/>\\r\\n  <w:LsdException Locked=\\\"false\\\" Priority=\\\"39\\\" Name=\\\"Table Grid\\\"/>\\r\\n  <w:LsdException Locked=\\\"false\\\" SemiHidden=\\\"true\\\" UnhideWhenUsed=\\\"true\\\"\\r\\n   Name=\\\"Table Theme\\\"/>\\r\\n  <w:LsdException Locked=\\\"false\\\" SemiHidden=\\\"true\\\" Name=\\\"Placeholder Text\\\"/>\\r\\n  <w:LsdException Locked=\\\"false\\\" Priority=\\\"1\\\" QFormat=\\\"true\\\" Name=\\\"No Spacing\\\"/>\\r\\n  <w:LsdException Locked=\\\"false\\\" Priority=\\\"60\\\" Name=\\\"Light Shading\\\"/>\\r\\n  <w:LsdException Locked=\\\"false\\\" Priority=\\\"61\\\" Name=\\\"Light List\\\"/>\\r\\n  <w:LsdException Locked=\\\"false\\\" Priority=\\\"62\\\" Name=\\\"Light Grid\\\"/>\\r\\n  <w:LsdException Locked=\\\"false\\\" Priority=\\\"63\\\" Name=\\\"Medium Shading 1\\\"/>\\r\\n  <w:LsdException Locked=\\\"false\\\" Priority=\\\"64\\\" Name=\\\"Medium Shading 2\\\"/>\\r\\n  <w:LsdException Locked=\\\"false\\\" Priority=\\\"65\\\" Name=\\\"Medium List 1\\\"/>\\r\\n  <w:LsdException Locked=\\\"false\\\" Priority=\\\"66\\\" Name=\\\"Medium List 2\\\"/>\\r\\n  <w:LsdException Locked=\\\"false\\\" Priority=\\\"67\\\" Name=\\\"Medium Grid 1\\\"/>\\r\\n  <w:LsdException Locked=\\\"false\\\" Priority=\\\"68\\\" Name=\\\"Medium Grid 2\\\"/>\\r\\n  <w:LsdException Locked=\\\"false\\\" Priority=\\\"69\\\" Name=\\\"Medium Grid 3\\\"/>\\r\\n  <w:LsdException Locked=\\\"false\\\" Priority=\\\"70\\\" Name=\\\"Dark List\\\"/>\\r\\n  <w:LsdException Locked=\\\"false\\\" Priority=\\\"71\\\" Name=\\\"Colorful Shading\\\"/>\\r\\n  <w:LsdException Locked=\\\"false\\\" Priority=\\\"72\\\" Name=\\\"Colorful List\\\"/>\\r\\n  <w:LsdException Locked=\\\"false\\\" Priority=\\\"73\\\" Name=\\\"Colorful Grid\\\"/>\\r\\n  <w:LsdException Locked=\\\"false\\\" Priority=\\\"60\\\" Name=\\\"Light Shading Accent 1\\\"/>\\r\\n  <w:LsdException Locked=\\\"false\\\" Priority=\\\"61\\\" Name=\\\"Light List Accent 1\\\"/>\\r\\n  <w:LsdException Locked=\\\"false\\\" Priority=\\\"62\\\" Name=\\\"Light Grid Accent 1\\\"/>\\r\\n  <w:LsdException Locked=\\\"false\\\" Priority=\\\"63\\\" Name=\\\"Medium Shading 1 Accent 1\\\"/>\\r\\n  <w:LsdException Locked=\\\"false\\\" Priority=\\\"64\\\" Name=\\\"Medium Shading 2 Accent 1\\\"/>\\r\\n  <w:LsdException Locked=\\\"false\\\" Priority=\\\"65\\\" Name=\\\"Medium List 1 Accent 1\\\"/>\\r\\n  <w:LsdException Locked=\\\"false\\\" SemiHidden=\\\"true\\\" Name=\\\"Revision\\\"/>\\r\\n  <w:LsdException Locked=\\\"false\\\" Priority=\\\"34\\\" QFormat=\\\"true\\\"\\r\\n   Name=\\\"List Paragraph\\\"/>\\r\\n  <w:LsdException Locked=\\\"false\\\" Priority=\\\"29\\\" QFormat=\\\"true\\\" Name=\\\"Quote\\\"/>\\r\\n  <w:LsdException Locked=\\\"false\\\" Priority=\\\"30\\\" QFormat=\\\"true\\\"\\r\\n   Name=\\\"Intense Quote\\\"/>\\r\\n  <w:LsdException Locked=\\\"false\\\" Priority=\\\"66\\\" Name=\\\"Medium List 2 Accent 1\\\"/>\\r\\n  <w:LsdException Locked=\\\"false\\\" Priority=\\\"67\\\" Name=\\\"Medium Grid 1 Accent 1\\\"/>\\r\\n  <w:LsdException Locked=\\\"false\\\" Priority=\\\"68\\\" Name=\\\"Medium Grid 2 Accent 1\\\"/>\\r\\n  <w:LsdException Locked=\\\"false\\\" Priority=\\\"69\\\" Name=\\\"Medium Grid 3 Accent 1\\\"/>\\r\\n  <w:LsdException Locked=\\\"false\\\" Priority=\\\"70\\\" Name=\\\"Dark List Accent 1\\\"/>\\r\\n  <w:LsdException Locked=\\\"false\\\" Priority=\\\"71\\\" Name=\\\"Colorful Shading Accent 1\\\"/>\\r\\n  <w:LsdException Locked=\\\"false\\\" Priority=\\\"72\\\" Name=\\\"Colorful List Accent 1\\\"/>\\r\\n  <w:LsdException Locked=\\\"false\\\" Priority=\\\"73\\\" Name=\\\"Colorful Grid Accent 1\\\"/>\\r\\n  <w:LsdException Locked=\\\"false\\\" Priority=\\\"60\\\" Name=\\\"Light Shading Accent 2\\\"/>\\r\\n  <w:LsdException Locked=\\\"false\\\" Priority=\\\"61\\\" Name=\\\"Light List Accent 2\\\"/>\\r\\n  <w:LsdException Locked=\\\"false\\\" Priority=\\\"62\\\" Name=\\\"Light Grid Accent 2\\\"/>\\r\\n  <w:LsdException Locked=\\\"false\\\" Priority=\\\"63\\\" Name=\\\"Medium Shading 1 Accent 2\\\"/>\\r\\n  <w:LsdException Locked=\\\"false\\\" Priority=\\\"64\\\" Name=\\\"Medium Shading 2 Accent 2\\\"/>\\r\\n  <w:LsdException Locked=\\\"false\\\" Priority=\\\"65\\\" Name=\\\"Medium List 1 Accent 2\\\"/>\\r\\n  <w:LsdException Locked=\\\"false\\\" Priority=\\\"66\\\" Name=\\\"Medium List 2 Accent 2\\\"/>\\r\\n  <w:LsdException Locked=\\\"false\\\" Priority=\\\"67\\\" Name=\\\"Medium Grid 1 Accent 2\\\"/>\\r\\n  <w:LsdException Locked=\\\"false\\\" Priority=\\\"68\\\" Name=\\\"Medium Grid 2 Accent 2\\\"/>\\r\\n  <w:LsdException Locked=\\\"false\\\" Priority=\\\"69\\\" Name=\\\"Medium Grid 3 Accent 2\\\"/>\\r\\n  <w:LsdException Locked=\\\"false\\\" Priority=\\\"70\\\" Name=\\\"Dark List Accent 2\\\"/>\\r\\n  <w:LsdException Locked=\\\"false\\\" Priority=\\\"71\\\" Name=\\\"Colorful Shading Accent 2\\\"/>\\r\\n  <w:LsdException Locked=\\\"false\\\" Priority=\\\"72\\\" Name=\\\"Colorful List Accent 2\\\"/>\\r\\n  <w:LsdException Locked=\\\"false\\\" Priority=\\\"73\\\" Name=\\\"Colorful Grid Accent 2\\\"/>\\r\\n  <w:LsdException Locked=\\\"false\\\" Priority=\\\"60\\\" Name=\\\"Light Shading Accent 3\\\"/>\\r\\n  <w:LsdException Locked=\\\"false\\\" Priority=\\\"61\\\" Name=\\\"Light List Accent 3\\\"/>\\r\\n  <w:LsdException Locked=\\\"false\\\" Priority=\\\"62\\\" Name=\\\"Light Grid Accent 3\\\"/>\\r\\n  <w:LsdException Locked=\\\"false\\\" Priority=\\\"63\\\" Name=\\\"Medium Shading 1 Accent 3\\\"/>\\r\\n  <w:LsdException Locked=\\\"false\\\" Priority=\\\"64\\\" Name=\\\"Medium Shading 2 Accent 3\\\"/>\\r\\n  <w:LsdException Locked=\\\"false\\\" Priority=\\\"65\\\" Name=\\\"Medium List 1 Accent 3\\\"/>\\r\\n  <w:LsdException Locked=\\\"false\\\" Priority=\\\"66\\\" Name=\\\"Medium List 2 Accent 3\\\"/>\\r\\n  <w:LsdException Locked=\\\"false\\\" Priority=\\\"67\\\" Name=\\\"Medium Grid 1 Accent 3\\\"/>\\r\\n  <w:LsdException Locked=\\\"false\\\" Priority=\\\"68\\\" Name=\\\"Medium Grid 2 Accent 3\\\"/>\\r\\n  <w:LsdException Locked=\\\"false\\\" Priority=\\\"69\\\" Name=\\\"Medium Grid 3 Accent 3\\\"/>\\r\\n  <w:LsdException Locked=\\\"false\\\" Priority=\\\"70\\\" Name=\\\"Dark List Accent 3\\\"/>\\r\\n  <w:LsdException Locked=\\\"false\\\" Priority=\\\"71\\\" Name=\\\"Colorful Shading Accent 3\\\"/>\\r\\n  <w:LsdException Locked=\\\"false\\\" Priority=\\\"72\\\" Name=\\\"Colorful List Accent 3\\\"/>\\r\\n  <w:LsdException Locked=\\\"false\\\" Priority=\\\"73\\\" Name=\\\"Colorful Grid Accent 3\\\"/>\\r\\n  <w:LsdException Locked=\\\"false\\\" Priority=\\\"60\\\" Name=\\\"Light Shading Accent 4\\\"/>\\r\\n  <w:LsdException Locked=\\\"false\\\" Priority=\\\"61\\\" Name=\\\"Light List Accent 4\\\"/>\\r\\n  <w:LsdException Locked=\\\"false\\\" Priority=\\\"62\\\" Name=\\\"Light Grid Accent 4\\\"/>\\r\\n  <w:LsdException Locked=\\\"false\\\" Priority=\\\"63\\\" Name=\\\"Medium Shading 1 Accent 4\\\"/>\\r\\n  <w:LsdException Locked=\\\"false\\\" Priority=\\\"64\\\" Name=\\\"Medium Shading 2 Accent 4\\\"/>\\r\\n  <w:LsdException Locked=\\\"false\\\" Priority=\\\"65\\\" Name=\\\"Medium List 1 Accent 4\\\"/>\\r\\n  <w:LsdException Locked=\\\"false\\\" Priority=\\\"66\\\" Name=\\\"Medium List 2 Accent 4\\\"/>\\r\\n  <w:LsdException Locked=\\\"false\\\" Priority=\\\"67\\\" Name=\\\"Medium Grid 1 Accent 4\\\"/>\\r\\n  <w:LsdException Locked=\\\"false\\\" Priority=\\\"68\\\" Name=\\\"Medium Grid 2 Accent 4\\\"/>\\r\\n  <w:LsdException Locked=\\\"false\\\" Priority=\\\"69\\\" Name=\\\"Medium Grid 3 Accent 4\\\"/>\\r\\n  <w:LsdException Locked=\\\"false\\\" Priority=\\\"70\\\" Name=\\\"Dark List Accent 4\\\"/>\\r\\n  <w:LsdException Locked=\\\"false\\\" Priority=\\\"71\\\" Name=\\\"Colorful Shading Accent 4\\\"/>\\r\\n  <w:LsdException Locked=\\\"false\\\" Priority=\\\"72\\\" Name=\\\"Colorful List Accent 4\\\"/>\\r\\n  <w:LsdException Locked=\\\"false\\\" Priority=\\\"73\\\" Name=\\\"Colorful Grid Accent 4\\\"/>\\r\\n  <w:LsdException Locked=\\\"false\\\" Priority=\\\"60\\\" Name=\\\"Light Shading Accent 5\\\"/>\\r\\n  <w:LsdException Locked=\\\"false\\\" Priority=\\\"61\\\" Name=\\\"Light List Accent 5\\\"/>\\r\\n  <w:LsdException Locked=\\\"false\\\" Priority=\\\"62\\\" Name=\\\"Light Grid Accent 5\\\"/>\\r\\n  <w:LsdException Locked=\\\"false\\\" Priority=\\\"63\\\" Name=\\\"Medium Shading 1 Accent 5\\\"/>\\r\\n  <w:LsdException Locked=\\\"false\\\" Priority=\\\"64\\\" Name=\\\"Medium Shading 2 Accent 5\\\"/>\\r\\n  <w:LsdException Locked=\\\"false\\\" Priority=\\\"65\\\" Name=\\\"Medium List 1 Accent 5\\\"/>\\r\\n  <w:LsdException Locked=\\\"false\\\" Priority=\\\"66\\\" Name=\\\"Medium List 2 Accent 5\\\"/>\\r\\n  <w:LsdException Locked=\\\"false\\\" Priority=\\\"67\\\" Name=\\\"Medium Grid 1 Accent 5\\\"/>\\r\\n  <w:LsdException Locked=\\\"false\\\" Priority=\\\"68\\\" Name=\\\"Medium Grid 2 Accent 5\\\"/>\\r\\n  <w:LsdException Locked=\\\"false\\\" Priority=\\\"69\\\" Name=\\\"Medium Grid 3 Accent 5\\\"/>\\r\\n  <w:LsdException Locked=\\\"false\\\" Priority=\\\"70\\\" Name=\\\"Dark List Accent 5\\\"/>\\r\\n  <w:LsdException Locked=\\\"false\\\" Priority=\\\"71\\\" Name=\\\"Colorful Shading Accent 5\\\"/>\\r\\n  <w:LsdException Locked=\\\"false\\\" Priority=\\\"72\\\" Name=\\\"Colorful List Accent 5\\\"/>\\r\\n  <w:LsdException Locked=\\\"false\\\" Priority=\\\"73\\\" Name=\\\"Colorful Grid Accent 5\\\"/>\\r\\n  <w:LsdException Locked=\\\"false\\\" Priority=\\\"60\\\" Name=\\\"Light Shading Accent 6\\\"/>\\r\\n  <w:LsdException Locked=\\\"false\\\" Priority=\\\"61\\\" Name=\\\"Light List Accent 6\\\"/>\\r\\n  <w:LsdException Locked=\\\"false\\\" Priority=\\\"62\\\" Name=\\\"Light Grid Accent 6\\\"/>\\r\\n  <w:LsdException Locked=\\\"false\\\" Priority=\\\"63\\\" Name=\\\"Medium Shading 1 Accent 6\\\"/>\\r\\n  <w:LsdException Locked=\\\"false\\\" Priority=\\\"64\\\" Name=\\\"Medium Shading 2 Accent 6\\\"/>\\r\\n  <w:LsdException Locked=\\\"false\\\" Priority=\\\"65\\\" Name=\\\"Medium List 1 Accent 6\\\"/>\\r\\n  <w:LsdException Locked=\\\"false\\\" Priority=\\\"66\\\" Name=\\\"Medium List 2 Accent 6\\\"/>\\r\\n  <w:LsdException Locked=\\\"false\\\" Priority=\\\"67\\\" Name=\\\"Medium Grid 1 Accent 6\\\"/>\\r\\n  <w:LsdException Locked=\\\"false\\\" Priority=\\\"68\\\" Name=\\\"Medium Grid 2 Accent 6\\\"/>\\r\\n  <w:LsdException Locked=\\\"false\\\" Priority=\\\"69\\\" Name=\\\"Medium Grid 3 Accent 6\\\"/>\\r\\n  <w:LsdException Locked=\\\"false\\\" Priority=\\\"70\\\" Name=\\\"Dark List Accent 6\\\"/>\\r\\n  <w:LsdException Locked=\\\"false\\\" Priority=\\\"71\\\" Name=\\\"Colorful Shading Accent 6\\\"/>\\r\\n  <w:LsdException Locked=\\\"false\\\" Priority=\\\"72\\\" Name=\\\"Colorful List Accent 6\\\"/>\\r\\n  <w:LsdException Locked=\\\"false\\\" Priority=\\\"73\\\" Name=\\\"Colorful Grid Accent 6\\\"/>\\r\\n  <w:LsdException Locked=\\\"false\\\" Priority=\\\"19\\\" QFormat=\\\"true\\\"\\r\\n   Name=\\\"Subtle Emphasis\\\"/>\\r\\n  <w:LsdException Locked=\\\"false\\\" Priority=\\\"21\\\" QFormat=\\\"true\\\"\\r\\n   Name=\\\"Intense Emphasis\\\"/>\\r\\n  <w:LsdException Locked=\\\"false\\\" Priority=\\\"31\\\" QFormat=\\\"true\\\"\\r\\n   Name=\\\"Subtle Reference\\\"/>\\r\\n  <w:LsdException Locked=\\\"false\\\" Priority=\\\"32\\\" QFormat=\\\"true\\\"\\r\\n   Name=\\\"Intense Reference\\\"/>\\r\\n  <w:LsdException Locked=\\\"false\\\" Priority=\\\"33\\\" QFormat=\\\"true\\\" Name=\\\"Book Title\\\"/>\\r\\n  <w:LsdException Locked=\\\"false\\\" Priority=\\\"37\\\" SemiHidden=\\\"true\\\"\\r\\n   UnhideWhenUsed=\\\"true\\\" Name=\\\"Bibliography\\\"/>\\r\\n  <w:LsdException Locked=\\\"false\\\" Priority=\\\"39\\\" SemiHidden=\\\"true\\\"\\r\\n   UnhideWhenUsed=\\\"true\\\" QFormat=\\\"true\\\" Name=\\\"TOC Heading\\\"/>\\r\\n  <w:LsdException Locked=\\\"false\\\" Priority=\\\"41\\\" Name=\\\"Plain Table 1\\\"/>\\r\\n  <w:LsdException Locked=\\\"false\\\" Priority=\\\"42\\\" Name=\\\"Plain Table 2\\\"/>\\r\\n  <w:LsdException Locked=\\\"false\\\" Priority=\\\"43\\\" Name=\\\"Plain Table 3\\\"/>\\r\\n  <w:LsdException Locked=\\\"false\\\" Priority=\\\"44\\\" Name=\\\"Plain Table 4\\\"/>\\r\\n  <w:LsdException Locked=\\\"false\\\" Priority=\\\"45\\\" Name=\\\"Plain Table 5\\\"/>\\r\\n  <w:LsdException Locked=\\\"false\\\" Priority=\\\"40\\\" Name=\\\"Grid Table Light\\\"/>\\r\\n  <w:LsdException Locked=\\\"false\\\" Priority=\\\"46\\\" Name=\\\"Grid Table 1 Light\\\"/>\\r\\n  <w:LsdException Locked=\\\"false\\\" Priority=\\\"47\\\" Name=\\\"Grid Table 2\\\"/>\\r\\n  <w:LsdException Locked=\\\"false\\\" Priority=\\\"48\\\" Name=\\\"Grid Table 3\\\"/>\\r\\n  <w:LsdException Locked=\\\"false\\\" Priority=\\\"49\\\" Name=\\\"Grid Table 4\\\"/>\\r\\n  <w:LsdException Locked=\\\"false\\\" Priority=\\\"50\\\" Name=\\\"Grid Table 5 Dark\\\"/>\\r\\n  <w:LsdException Locked=\\\"false\\\" Priority=\\\"51\\\" Name=\\\"Grid Table 6 Colorful\\\"/>\\r\\n  <w:LsdException Locked=\\\"false\\\" Priority=\\\"52\\\" Name=\\\"Grid Table 7 Colorful\\\"/>\\r\\n  <w:LsdException Locked=\\\"false\\\" Priority=\\\"46\\\"\\r\\n   Name=\\\"Grid Table 1 Light Accent 1\\\"/>\\r\\n  <w:LsdException Locked=\\\"false\\\" Priority=\\\"47\\\" Name=\\\"Grid Table 2 Accent 1\\\"/>\\r\\n  <w:LsdException Locked=\\\"false\\\" Priority=\\\"48\\\" Name=\\\"Grid Table 3 Accent 1\\\"/>\\r\\n  <w:LsdException Locked=\\\"false\\\" Priority=\\\"49\\\" Name=\\\"Grid Table 4 Accent 1\\\"/>\\r\\n  <w:LsdException Locked=\\\"false\\\" Priority=\\\"50\\\" Name=\\\"Grid Table 5 Dark Accent 1\\\"/>\\r\\n  <w:LsdException Locked=\\\"false\\\" Priority=\\\"51\\\"\\r\\n   Name=\\\"Grid Table 6 Colorful Accent 1\\\"/>\\r\\n  <w:LsdException Locked=\\\"false\\\" Priority=\\\"52\\\"\\r\\n   Name=\\\"Grid Table 7 Colorful Accent 1\\\"/>\\r\\n  <w:LsdException Locked=\\\"false\\\" Priority=\\\"46\\\"\\r\\n   Name=\\\"Grid Table 1 Light Accent 2\\\"/>\\r\\n  <w:LsdException Locked=\\\"false\\\" Priority=\\\"47\\\" Name=\\\"Grid Table 2 Accent 2\\\"/>\\r\\n  <w:LsdException Locked=\\\"false\\\" Priority=\\\"48\\\" Name=\\\"Grid Table 3 Accent 2\\\"/>\\r\\n  <w:LsdException Locked=\\\"false\\\" Priority=\\\"49\\\" Name=\\\"Grid Table 4 Accent 2\\\"/>\\r\\n  <w:LsdException Locked=\\\"false\\\" Priority=\\\"50\\\" Name=\\\"Grid Table 5 Dark Accent 2\\\"/>\\r\\n  <w:LsdException Locked=\\\"false\\\" Priority=\\\"51\\\"\\r\\n   Name=\\\"Grid Table 6 Colorful Accent 2\\\"/>\\r\\n  <w:LsdException Locked=\\\"false\\\" Priority=\\\"52\\\"\\r\\n   Name=\\\"Grid Table 7 Colorful Accent 2\\\"/>\\r\\n  <w:LsdException Locked=\\\"false\\\" Priority=\\\"46\\\"\\r\\n   Name=\\\"Grid Table 1 Light Accent 3\\\"/>\\r\\n  <w:LsdException Locked=\\\"false\\\" Priority=\\\"47\\\" Name=\\\"Grid Table 2 Accent 3\\\"/>\\r\\n  <w:LsdException Locked=\\\"false\\\" Priority=\\\"48\\\" Name=\\\"Grid Table 3 Accent 3\\\"/>\\r\\n  <w:LsdException Locked=\\\"false\\\" Priority=\\\"49\\\" Name=\\\"Grid Table 4 Accent 3\\\"/>\\r\\n  <w:LsdException Locked=\\\"false\\\" Priority=\\\"50\\\" Name=\\\"Grid Table 5 Dark Accent 3\\\"/>\\r\\n  <w:LsdException Locked=\\\"false\\\" Priority=\\\"51\\\"\\r\\n   Name=\\\"Grid Table 6 Colorful Accent 3\\\"/>\\r\\n  <w:LsdException Locked=\\\"false\\\" Priority=\\\"52\\\"\\r\\n   Name=\\\"Grid Table 7 Colorful Accent 3\\\"/>\\r\\n  <w:LsdException Locked=\\\"false\\\" Priority=\\\"46\\\"\\r\\n   Name=\\\"Grid Table 1 Light Accent 4\\\"/>\\r\\n  <w:LsdException Locked=\\\"false\\\" Priority=\\\"47\\\" Name=\\\"Grid Table 2 Accent 4\\\"/>\\r\\n  <w:LsdException Locked=\\\"false\\\" Priority=\\\"48\\\" Name=\\\"Grid Table 3 Accent 4\\\"/>\\r\\n  <w:LsdException Locked=\\\"false\\\" Priority=\\\"49\\\" Name=\\\"Grid Table 4 Accent 4\\\"/>\\r\\n  <w:LsdException Locked=\\\"false\\\" Priority=\\\"50\\\" Name=\\\"Grid Table 5 Dark Accent 4\\\"/>\\r\\n  <w:LsdException Locked=\\\"false\\\" Priority=\\\"51\\\"\\r\\n   Name=\\\"Grid Table 6 Colorful Accent 4\\\"/>\\r\\n  <w:LsdException Locked=\\\"false\\\" Priority=\\\"52\\\"\\r\\n   Name=\\\"Grid Table 7 Colorful Accent 4\\\"/>\\r\\n  <w:LsdException Locked=\\\"false\\\" Priority=\\\"46\\\"\\r\\n   Name=\\\"Grid Table 1 Light Accent 5\\\"/>\\r\\n  <w:LsdException Locked=\\\"false\\\" Priority=\\\"47\\\" Name=\\\"Grid Table 2 Accent 5\\\"/>\\r\\n  <w:LsdException Locked=\\\"false\\\" Priority=\\\"48\\\" Name=\\\"Grid Table 3 Accent 5\\\"/>\\r\\n  <w:LsdException Locked=\\\"false\\\" Priority=\\\"49\\\" Name=\\\"Grid Table 4 Accent 5\\\"/>\\r\\n  <w:LsdException Locked=\\\"false\\\" Priority=\\\"50\\\" Name=\\\"Grid Table 5 Dark Accent 5\\\"/>\\r\\n  <w:LsdException Locked=\\\"false\\\" Priority=\\\"51\\\"\\r\\n   Name=\\\"Grid Table 6 Colorful Accent 5\\\"/>\\r\\n  <w:LsdException Locked=\\\"false\\\" Priority=\\\"52\\\"\\r\\n   Name=\\\"Grid Table 7 Colorful Accent 5\\\"/>\\r\\n  <w:LsdException Locked=\\\"false\\\" Priority=\\\"46\\\"\\r\\n   Name=\\\"Grid Table 1 Light Accent 6\\\"/>\\r\\n  <w:LsdException Locked=\\\"false\\\" Priority=\\\"47\\\" Name=\\\"Grid Table 2 Accent 6\\\"/>\\r\\n  <w:LsdException Locked=\\\"false\\\" Priority=\\\"48\\\" Name=\\\"Grid Table 3 Accent 6\\\"/>\\r\\n  <w:LsdException Locked=\\\"false\\\" Priority=\\\"49\\\" Name=\\\"Grid Table 4 Accent 6\\\"/>\\r\\n  <w:LsdException Locked=\\\"false\\\" Priority=\\\"50\\\" Name=\\\"Grid Table 5 Dark Accent 6\\\"/>\\r\\n  <w:LsdException Locked=\\\"false\\\" Priority=\\\"51\\\"\\r\\n   Name=\\\"Grid Table 6 Colorful Accent 6\\\"/>\\r\\n  <w:LsdException Locked=\\\"false\\\" Priority=\\\"52\\\"\\r\\n   Name=\\\"Grid Table 7 Colorful Accent 6\\\"/>\\r\\n  <w:LsdException Locked=\\\"false\\\" Priority=\\\"46\\\" Name=\\\"List Table 1 Light\\\"/>\\r\\n  <w:LsdException Locked=\\\"false\\\" Priority=\\\"47\\\" Name=\\\"List Table 2\\\"/>\\r\\n  <w:LsdException Locked=\\\"false\\\" Priority=\\\"48\\\" Name=\\\"List Table 3\\\"/>\\r\\n  <w:LsdException Locked=\\\"false\\\" Priority=\\\"49\\\" Name=\\\"List Table 4\\\"/>\\r\\n  <w:LsdException Locked=\\\"false\\\" Priority=\\\"50\\\" Name=\\\"List Table 5 Dark\\\"/>\\r\\n  <w:LsdException Locked=\\\"false\\\" Priority=\\\"51\\\" Name=\\\"List Table 6 Colorful\\\"/>\\r\\n  <w:LsdException Locked=\\\"false\\\" Priority=\\\"52\\\" Name=\\\"List Table 7 Colorful\\\"/>\\r\\n  <w:LsdException Locked=\\\"false\\\" Priority=\\\"46\\\"\\r\\n   Name=\\\"List Table 1 Light Accent 1\\\"/>\\r\\n  <w:LsdException Locked=\\\"false\\\" Priority=\\\"47\\\" Name=\\\"List Table 2 Accent 1\\\"/>\\r\\n  <w:LsdException Locked=\\\"false\\\" Priority=\\\"48\\\" Name=\\\"List Table 3 Accent 1\\\"/>\\r\\n  <w:LsdException Locked=\\\"false\\\" Priority=\\\"49\\\" Name=\\\"List Table 4 Accent 1\\\"/>\\r\\n  <w:LsdException Locked=\\\"false\\\" Priority=\\\"50\\\" Name=\\\"List Table 5 Dark Accent 1\\\"/>\\r\\n  <w:LsdException Locked=\\\"false\\\" Priority=\\\"51\\\"\\r\\n   Name=\\\"List Table 6 Colorful Accent 1\\\"/>\\r\\n  <w:LsdException Locked=\\\"false\\\" Priority=\\\"52\\\"\\r\\n   Name=\\\"List Table 7 Colorful Accent 1\\\"/>\\r\\n  <w:LsdException Locked=\\\"false\\\" Priority=\\\"46\\\"\\r\\n   Name=\\\"List Table 1 Light Accent 2\\\"/>\\r\\n  <w:LsdException Locked=\\\"false\\\" Priority=\\\"47\\\" Name=\\\"List Table 2 Accent 2\\\"/>\\r\\n  <w:LsdException Locked=\\\"false\\\" Priority=\\\"48\\\" Name=\\\"List Table 3 Accent 2\\\"/>\\r\\n  <w:LsdException Locked=\\\"false\\\" Priority=\\\"49\\\" Name=\\\"List Table 4 Accent 2\\\"/>\\r\\n  <w:LsdException Locked=\\\"false\\\" Priority=\\\"50\\\" Name=\\\"List Table 5 Dark Accent 2\\\"/>\\r\\n  <w:LsdException Locked=\\\"false\\\" Priority=\\\"51\\\"\\r\\n   Name=\\\"List Table 6 Colorful Accent 2\\\"/>\\r\\n  <w:LsdException Locked=\\\"false\\\" Priority=\\\"52\\\"\\r\\n   Name=\\\"List Table 7 Colorful Accent 2\\\"/>\\r\\n  <w:LsdException Locked=\\\"false\\\" Priority=\\\"46\\\"\\r\\n   Name=\\\"List Table 1 Light Accent 3\\\"/>\\r\\n  <w:LsdException Locked=\\\"false\\\" Priority=\\\"47\\\" Name=\\\"List Table 2 Accent 3\\\"/>\\r\\n  <w:LsdException Locked=\\\"false\\\" Priority=\\\"48\\\" Name=\\\"List Table 3 Accent 3\\\"/>\\r\\n  <w:LsdException Locked=\\\"false\\\" Priority=\\\"49\\\" Name=\\\"List Table 4 Accent 3\\\"/>\\r\\n  <w:LsdException Locked=\\\"false\\\" Priority=\\\"50\\\" Name=\\\"List Table 5 Dark Accent 3\\\"/>\\r\\n  <w:LsdException Locked=\\\"false\\\" Priority=\\\"51\\\"\\r\\n   Name=\\\"List Table 6 Colorful Accent 3\\\"/>\\r\\n  <w:LsdException Locked=\\\"false\\\" Priority=\\\"52\\\"\\r\\n   Name=\\\"List Table 7 Colorful Accent 3\\\"/>\\r\\n  <w:LsdException Locked=\\\"false\\\" Priority=\\\"46\\\"\\r\\n   Name=\\\"List Table 1 Light Accent 4\\\"/>\\r\\n  <w:LsdException Locked=\\\"false\\\" Priority=\\\"47\\\" Name=\\\"List Table 2 Accent 4\\\"/>\\r\\n  <w:LsdException Locked=\\\"false\\\" Priority=\\\"48\\\" Name=\\\"List Table 3 Accent 4\\\"/>\\r\\n  <w:LsdException Locked=\\\"false\\\" Priority=\\\"49\\\" Name=\\\"List Table 4 Accent 4\\\"/>\\r\\n  <w:LsdException Locked=\\\"false\\\" Priority=\\\"50\\\" Name=\\\"List Table 5 Dark Accent 4\\\"/>\\r\\n  <w:LsdException Locked=\\\"false\\\" Priority=\\\"51\\\"\\r\\n   Name=\\\"List Table 6 Colorful Accent 4\\\"/>\\r\\n  <w:LsdException Locked=\\\"false\\\" Priority=\\\"52\\\"\\r\\n   Name=\\\"List Table 7 Colorful Accent 4\\\"/>\\r\\n  <w:LsdException Locked=\\\"false\\\" Priority=\\\"46\\\"\\r\\n   Name=\\\"List Table 1 Light Accent 5\\\"/>\\r\\n  <w:LsdException Locked=\\\"false\\\" Priority=\\\"47\\\" Name=\\\"List Table 2 Accent 5\\\"/>\\r\\n  <w:LsdException Locked=\\\"false\\\" Priority=\\\"48\\\" Name=\\\"List Table 3 Accent 5\\\"/>\\r\\n  <w:LsdException Locked=\\\"false\\\" Priority=\\\"49\\\" Name=\\\"List Table 4 Accent 5\\\"/>\\r\\n  <w:LsdException Locked=\\\"false\\\" Priority=\\\"50\\\" Name=\\\"List Table 5 Dark Accent 5\\\"/>\\r\\n  <w:LsdException Locked=\\\"false\\\" Priority=\\\"51\\\"\\r\\n   Name=\\\"List Table 6 Colorful Accent 5\\\"/>\\r\\n  <w:LsdException Locked=\\\"false\\\" Priority=\\\"52\\\"\\r\\n   Name=\\\"List Table 7 Colorful Accent 5\\\"/>\\r\\n  <w:LsdException Locked=\\\"false\\\" Priority=\\\"46\\\"\\r\\n   Name=\\\"List Table 1 Light Accent 6\\\"/>\\r\\n  <w:LsdException Locked=\\\"false\\\" Priority=\\\"47\\\" Name=\\\"List Table 2 Accent 6\\\"/>\\r\\n  <w:LsdException Locked=\\\"false\\\" Priority=\\\"48\\\" Name=\\\"List Table 3 Accent 6\\\"/>\\r\\n  <w:LsdException Locked=\\\"false\\\" Priority=\\\"49\\\" Name=\\\"List Table 4 Accent 6\\\"/>\\r\\n  <w:LsdException Locked=\\\"false\\\" Priority=\\\"50\\\" Name=\\\"List Table 5 Dark Accent 6\\\"/>\\r\\n  <w:LsdException Locked=\\\"false\\\" Priority=\\\"51\\\"\\r\\n   Name=\\\"List Table 6 Colorful Accent 6\\\"/>\\r\\n  <w:LsdException Locked=\\\"false\\\" Priority=\\\"52\\\"\\r\\n   Name=\\\"List Table 7 Colorful Accent 6\\\"/>\\r\\n </w:LatentStyles>\\r\\n</xml><![endif]-->\\r\\n<style>\\r\\n<!--\\r\\n /* Font Definitions */\\r\\n @font-face\\r\\n\\t{font-family:\\\"Cambria Math\\\";\\r\\n\\tpanose-1:2 4 5 3 5 4 6 3 2 4;\\r\\n\\tmso-font-charset:1;\\r\\n\\tmso-generic-font-family:roman;\\r\\n\\tmso-font-format:other;\\r\\n\\tmso-font-pitch:variable;\\r\\n\\tmso-font-signature:0 0 0 0 0 0;}\\r\\n /* Style Definitions */\\r\\n p.MsoNormal, li.MsoNormal, div.MsoNormal\\r\\n\\t{mso-style-unhide:no;\\r\\n\\tmso-style-qformat:yes;\\r\\n\\tmso-style-parent:\\\"\\\";\\r\\n\\tmargin:0in;\\r\\n\\tmargin-bottom:.0001pt;\\r\\n\\tmso-pagination:widow-orphan;\\r\\n\\tfont-size:12.0pt;\\r\\n\\tfont-family:\\\"Times New Roman\\\",\\\"serif\\\";\\r\\n\\tmso-fareast-font-family:\\\"Times New Roman\\\";\\r\\n\\tmso-fareast-theme-font:minor-fareast;}\\r\\na:link, span.MsoHyperlink\\r\\n\\t{mso-style-noshow:yes;\\r\\n\\tmso-style-priority:99;\\r\\n\\tcolor:blue;\\r\\n\\ttext-decoration:underline;\\r\\n\\ttext-underline:single;}\\r\\na:visited, span.MsoHyperlinkFollowed\\r\\n\\t{mso-style-noshow:yes;\\r\\n\\tmso-style-priority:99;\\r\\n\\tcolor:purple;\\r\\n\\ttext-decoration:underline;\\r\\n\\ttext-underline:single;}\\r\\np\\r\\n\\t{mso-style-noshow:yes;\\r\\n\\tmso-style-priority:99;\\r\\n\\tmso-margin-top-alt:auto;\\r\\n\\tmargin-right:0in;\\r\\n\\tmso-margin-bottom-alt:auto;\\r\\n\\tmargin-left:0in;\\r\\n\\tmso-pagination:widow-orphan;\\r\\n\\tfont-size:12.0pt;\\r\\n\\tfont-family:\\\"Times New Roman\\\",\\\"serif\\\";\\r\\n\\tmso-fareast-font-family:\\\"Times New Roman\\\";\\r\\n\\tmso-fareast-theme-font:minor-fareast;}\\r\\n.MsoChpDefault\\r\\n\\t{mso-style-type:export-only;\\r\\n\\tmso-default-props:yes;\\r\\n\\tfont-size:10.0pt;\\r\\n\\tmso-ansi-font-size:10.0pt;\\r\\n\\tmso-bidi-font-size:10.0pt;}\\r\\n@page WordSection1\\r\\n\\t{size:8.5in 11.0in;\\r\\n\\tmargin:1.0in 1.0in 1.0in 1.0in;\\r\\n\\tmso-header-margin:.5in;\\r\\n\\tmso-footer-margin:.5in;\\r\\n\\tmso-paper-source:0;}\\r\\ndiv.WordSection1\\r\\n\\t{page:WordSection1;}\\r\\n-->\\r\\n</style>\\r\\n<!--[if gte mso 10]>\\r\\n<style>\\r\\n /* Style Definitions */\\r\\n table.MsoNormalTable\\r\\n\\t{mso-style-name:\\\"Table Normal\\\";\\r\\n\\tmso-tstyle-rowband-size:0;\\r\\n\\tmso-tstyle-colband-size:0;\\r\\n\\tmso-style-noshow:yes;\\r\\n\\tmso-style-priority:99;\\r\\n\\tmso-style-parent:\\\"\\\";\\r\\n\\tmso-padding-alt:0in 5.4pt 0in 5.4pt;\\r\\n\\tmso-para-margin:0in;\\r\\n\\tmso-para-margin-bottom:.0001pt;\\r\\n\\tmso-pagination:widow-orphan;\\r\\n\\tfont-size:10.0pt;\\r\\n\\tfont-family:\\\"Times New Roman\\\",\\\"serif\\\";}\\r\\n</style>\\r\\n<![endif]--><!--[if gte mso 9]><xml>\\r\\n <o:shapedefaults v:ext=\\\"edit\\\" spidmax=\\\"1026\\\"/>\\r\\n</xml><![endif]--><!--[if gte mso 9]><xml>\\r\\n <o:shapelayout v:ext=\\\"edit\\\">\\r\\n  <o:idmap v:ext=\\\"edit\\\" data=\\\"1\\\"/>\\r\\n </o:shapelayout></xml><![endif]-->\\r\\n</head>\\r\\n\\r\\n<body lang=EN-US link=blue vlink=purple style='tab-interval:.5in'>\\r\\n\\r\\n<div class=WordSection1>\\r\\n\\r\\n<p class=MsoNormal align=center style='text-align:center'><span\\r\\nstyle='font-family:\\\"Arial\\\",\\\"sans-serif\\\";mso-fareast-font-family:\\\"Times New Roman\\\"'>&nbsp;<a\\r\\nhref=\\\"http://www.nwlink.com/~ufocntr\\\">NUFORC Home Page</a></span><span\\r\\nstyle='mso-fareast-font-family:\\\"Times New Roman\\\"'> <br>\\r\\n</span><span style='font-family:\\\"Arial\\\",\\\"sans-serif\\\";mso-fareast-font-family:\\r\\n\\\"Times New Roman\\\"'>Web Report Indexes : <a\\r\\nhref=\\\"http://www.nuforc.org/webreports/ndxevent.html\\\">by Event Date</a> | <a\\r\\nhref=\\\"http://www.nuforc.org/webreports/ndxloc.html\\\">by Location</a> | <a\\r\\nhref=\\\"http://www.nuforc.org/webreports/ndxshape.html\\\">by Shape</a> | <a\\r\\nhref=\\\"http://www.nuforc.org/webreports/ndxpost.html\\\">by Posting Date</a></span><span\\r\\nstyle='mso-fareast-font-family:\\\"Times New Roman\\\"'><o:p></o:p></span></p>\\r\\n\\r\\n</div>\\r\\n\\r\\n<!--The following token places all object output inside the <BODY> tag.--><TABLE BORDER=1 BGCOLOR=#ffffff CELLSPACING=0><FONT FACE=\\\"Calibri\\\" COLOR=#000000><CAPTION><B>National UFO Reporting Center</B></CAPTION></FONT>\\r\\n\\r\\n<THEAD>\\r\\n<TR>\\r\\n<TH BGCOLOR=#c0c0c0 BORDERCOLOR=#000000 ><FONT style=FONT-SIZE:11pt FACE=\\\"Calibri\\\" COLOR=#000000>Sighting Report</FONT></TH>\\r\\n\\r\\n</TR>\\r\\n</THEAD>\\r\\n<TBODY>\\r\\n<TR VALIGN=TOP>\\r\\n<TD BORDERCOLOR=#d0d7e5 ><FONT style=FONT-SIZE:11pt FACE=\\\"Calibri\\\" COLOR=#000000>Occurred : 6/1/1997 16:00  (Entered as : 1997 16:00)<BR>Reported: 5/1/2017 8:03:55 AM 08:03<BR>Posted: 5/6/2017<BR>Location: Boston, MA<BR>Shape: Triangle<BR>Duration:15 minutes</FONT></TD>\\r\\n\\r\\n</TR>\\r\\n\\r\\n<TR VALIGN=TOP>\\r\\n<TD BORDERCOLOR=#d0d7e5 ><FONT style=FONT-SIZE:11pt FACE=\\\"Calibri\\\" COLOR=#000000>TR3B Absolutely Certain!<BR><BR>I saw the TR3B in the sky in Massachusetts in 1997.  It hovered for 15 minutes, then accelerated from 0 to like MACH 10 in a fraction of a second.  It is real!  A US Navy recon space ship that defied the laws of inertia right in front of me!  <BR><BR>I was driving on the highway and saw the triangular shaped craft in the sky.  I pulled over into the breakdown lane and stared at it.  I could see 3 bright lights at each corner of the craft.  It twisted clockwise and counterclockwise like it was floating and was light as a feather.  <BR><BR>After 15 mins, it took off at an incredible speed.  I was 100% confused by this when it happened and for years didn't tell anyone for fear of being ridiculed.  <BR><BR>And now 20 years later thanks to YouTube.  I now know I'm not crazy!!!!!!!!!!!!<BR><BR><BR>((NUFORC Note:  Many people seem to believe in the existence of a craft called the TR3B, but no photos have been forthcoming, as far as we know, over the course of the past several decades.  If such a craft exists, we have to wonder why it would be being flown over Boston, MA.  PD))</FONT></TD>\\r\\n\\r\\n</TR>\\r\\n</TBODY>\\r\\n<TFOOT></TFOOT>\\r\\n</TABLE>\\r\\n</body>\\r\\n\\r\\n</html>\\r\\n\\u0000\", \"time\" : \"Wed May 10 21:46:33 2017\" }\n",
      "\n"
     ]
    }
   ],
   "source": [
    "vals=beautifulsouper(bf_html)"
   ]
  },
  {
   "cell_type": "code",
   "execution_count": 94,
   "metadata": {},
   "outputs": [
    {
     "name": "stderr",
     "output_type": "stream",
     "text": [
      "IOPub data rate exceeded.\n",
      "The notebook server will temporarily stop sending output\n",
      "to the client in order to avoid crashing it.\n",
      "To change this limit, set the config variable\n",
      "`--NotebookApp.iopub_data_rate_limit`.\n",
      "\n",
      "Current values:\n",
      "NotebookApp.iopub_data_rate_limit=1000000.0 (bytes/sec)\n",
      "NotebookApp.rate_limit_window=3.0 (secs)\n",
      "\n"
     ]
    },
    {
     "ename": "IndexError",
     "evalue": "list index out of range",
     "output_type": "error",
     "traceback": [
      "\u001b[0;31m---------------------------------------------------------------------------\u001b[0m",
      "\u001b[0;31mIndexError\u001b[0m                                Traceback (most recent call last)",
      "\u001b[0;32m<ipython-input-94-904851125362>\u001b[0m in \u001b[0;36m<module>\u001b[0;34m\u001b[0m\n\u001b[1;32m      7\u001b[0m         \u001b[0mfield\u001b[0m\u001b[0;34m=\u001b[0m\u001b[0;34m[\u001b[0m\u001b[0mtext\u001b[0m \u001b[0;32mfor\u001b[0m \u001b[0mtext\u001b[0m \u001b[0;32min\u001b[0m \u001b[0mpart\u001b[0m\u001b[0;34m.\u001b[0m\u001b[0mstripped_strings\u001b[0m\u001b[0;34m]\u001b[0m\u001b[0;34m\u001b[0m\u001b[0;34m\u001b[0m\u001b[0m\n\u001b[1;32m      8\u001b[0m         \u001b[0mbf_cols\u001b[0m\u001b[0;34m=\u001b[0m\u001b[0mfield\u001b[0m\u001b[0;34m[\u001b[0m\u001b[0;36m0\u001b[0m\u001b[0;34m]\u001b[0m\u001b[0;34m.\u001b[0m\u001b[0mreplace\u001b[0m\u001b[0;34m(\u001b[0m\u001b[0;34m':'\u001b[0m\u001b[0;34m,\u001b[0m \u001b[0;34m''\u001b[0m\u001b[0;34m)\u001b[0m\u001b[0;34m\u001b[0m\u001b[0;34m\u001b[0m\u001b[0m\n\u001b[0;32m----> 9\u001b[0;31m         \u001b[0;32mif\u001b[0m \u001b[0mfield\u001b[0m\u001b[0;34m[\u001b[0m\u001b[0;36m1\u001b[0m\u001b[0;34m]\u001b[0m \u001b[0;32mis\u001b[0m \u001b[0;32mnot\u001b[0m \u001b[0;32mNone\u001b[0m\u001b[0;34m:\u001b[0m\u001b[0;34m\u001b[0m\u001b[0;34m\u001b[0m\u001b[0m\n\u001b[0m\u001b[1;32m     10\u001b[0m             \u001b[0mvalues\u001b[0m\u001b[0;34m.\u001b[0m\u001b[0mappend\u001b[0m\u001b[0;34m(\u001b[0m\u001b[0mfield\u001b[0m\u001b[0;34m[\u001b[0m\u001b[0;36m1\u001b[0m\u001b[0;34m]\u001b[0m\u001b[0;34m)\u001b[0m\u001b[0;34m\u001b[0m\u001b[0;34m\u001b[0m\u001b[0m\n",
      "\u001b[0;31mIndexError\u001b[0m: list index out of range"
     ]
    }
   ],
   "source": [
    "val_arr=[]\n",
    "for record in bf_html:\n",
    "    soup=BeautifulSoup(record, 'html.parser')\n",
    "    p=soup.find_all('p')\n",
    "\n",
    "        "
   ]
  },
  {
   "cell_type": "code",
   "execution_count": null,
   "metadata": {},
   "outputs": [],
   "source": []
  },
  {
   "cell_type": "code",
   "execution_count": 27,
   "metadata": {},
   "outputs": [],
   "source": [
    "soup=BeautifulSoup(bf_html[0], 'html.parser')"
   ]
  },
  {
   "cell_type": "code",
   "execution_count": 29,
   "metadata": {},
   "outputs": [
    {
     "data": {
      "text/plain": [
       "[<p><span class=\"field\">YEAR:</span> 2004</p>,\n",
       " <p><span class=\"field\">SEASON:</span> Winter</p>,\n",
       " <p><span class=\"field\">MONTH:</span> February</p>,\n",
       " <p><span class=\"field\">STATE:</span> <a href=\"/GDB/state_listing.asp?state=AK\">Alaska</a></p>,\n",
       " <p><span class=\"field\">COUNTY:</span> <a href=\"/GDB/show_county_reports.asp?state=AK&amp;county=Anchorage\">Anchorage County</a></p>,\n",
       " <p><span class=\"field\">LOCATION DETAILS:</span> Up near powerline clearings east of Potter Marsh in Anchorage.</p>,\n",
       " <p><span class=\"field\">NEAREST TOWN:</span> Anchorage / Hillside</p>,\n",
       " <p><span class=\"field\">NEAREST ROAD:</span> No real roads in the area</p>,\n",
       " <p><span class=\"field\">OBSERVED:</span> I and two of my friends were bored one night so we decided to do a little snowmachining. Though it was illegal to snowmachine in Anchorage, there were some good trails to ride on a little north of my house.  <br/><br/>We took off at probably 11 pm, rode up the road about a quarter mile, and cut off on the trails. It had snowed about 10 inches a few days before so there was fresh snow, with no tracks.  <br/><br/>I was leading the way for about a half hour, then we stopped and talked for a little bit.  We took off again and kept cruising on some sort of game trail that led to an opening in the woods.  I rode off into the opening with my friends following about fifty yards behind me.  <br/><br/>I came over this little mound and saw strange tracks leading to this spot in the snow where it looked like something had pushed aside some snow and layed down.  I figured it was just a moose or something.  But I followed the tracks over the next small hill and as I came down the far side my headlight pointed right on the back of a bigfoot. <br/><br/> It was only about 10 to 12 feet in front of me.  It was running in the opposite direction.  I slammed on the brakes because I was scared out of my mind.  It continued to run away, jumped over a dead log covered in snow and disappeared into a group of trees and into the darkness.  <br/><br/>I was so surprised and scared I quickly turned around and rode back toward my friends. I met them back by the first mound and said \"We need to get out of here,\"  and rode back towards my house.  When I told them about it back near my house, they laughed and told me it was probably a bear or someone in the woods.  But I was 100% positive that is was not a bear or anything else. <br/><br/>The way it was running through the deep snow made me sure that it wasn't anything human.  For a long time I was made fun of and everyone told me I was crazy so I didn't like talking about it.  </p>,\n",
       " <p><span class=\"field\">ALSO NOTICED:</span> Some tracks in the snow, and a clearing in the fresh snow where it looked like a large animal had pushed snow aside and layed down.</p>,\n",
       " <p><span class=\"field\">OTHER WITNESSES:</span> My two friends were snowmachining behind me but did not see it. If it had been light outside they might have seen it, but it was pitch black outside. My only light was from my snowmachine.</p>,\n",
       " <p><span class=\"field\">OTHER STORIES:</span> I have not heard of any other incidents in Anchorage.</p>,\n",
       " <p><span class=\"field\">TIME AND CONDITIONS:</span> Middle of the night. The only light was the headlight from my snowmachine.</p>,\n",
       " <p><span class=\"field\">ENVIRONMENT:</span> In the middle of the woods, in a clearing covered in snow, with only small shrubs and bushes sticking out of the snow.  In the middle of the night.</p>,\n",
       " <p>Follow-up investigation report by BFRO Investigator Dr. Wolf H. Fahrenbach:</p>,\n",
       " <p>The animal was running from the approaching snowmobiles. <br/><br/>It was running smoothly with angled elbows, totally unimpeded by the fresh snow, which was about a foot deep and still falling on top of a deeper base. <br/><br/>It was dark brown in color, with a messy, matted coat and no perceptible neck.<br/><br/>The area of the encounter lies near a clear-cut lane for a pipeline and is within about a mile of the Anchorage Coastal Wildlife Refuge and Potter's Marsh in wooded terrain.<br/></p>,\n",
       " <p>About BFRO Investigator Dr. Wolf H. Fahrenbach:</p>,\n",
       " <p>Hair analysis since 1965.  Field work since 1989. Sasquatch courses given in Oregon and Arizona (3-10 weeks duration); Published in Cryptozoology.</p>]"
      ]
     },
     "execution_count": 29,
     "metadata": {},
     "output_type": "execute_result"
    }
   ],
   "source": [
    "soup.find_all('p')"
   ]
  },
  {
   "cell_type": "code",
   "execution_count": 138,
   "metadata": {},
   "outputs": [
    {
     "data": {
      "text/plain": [
       "10"
      ]
     },
     "execution_count": 138,
     "metadata": {},
     "output_type": "execute_result"
    }
   ],
   "source": [
    "p=soup.find_all('p')\n",
    "len(p)"
   ]
  },
  {
   "cell_type": "code",
   "execution_count": 114,
   "metadata": {},
   "outputs": [
    {
     "ename": "IndexError",
     "evalue": "list index out of range",
     "output_type": "error",
     "traceback": [
      "\u001b[0;31m---------------------------------------------------------------------------\u001b[0m",
      "\u001b[0;31mIndexError\u001b[0m                                Traceback (most recent call last)",
      "\u001b[0;32m<ipython-input-114-9a85de6ce970>\u001b[0m in \u001b[0;36m<module>\u001b[0;34m\u001b[0m\n\u001b[1;32m      4\u001b[0m     \u001b[0mfield\u001b[0m\u001b[0;34m=\u001b[0m\u001b[0;34m[\u001b[0m\u001b[0mtext\u001b[0m \u001b[0;32mfor\u001b[0m \u001b[0mtext\u001b[0m \u001b[0;32min\u001b[0m \u001b[0mpart\u001b[0m\u001b[0;34m.\u001b[0m\u001b[0mstripped_strings\u001b[0m\u001b[0;34m]\u001b[0m\u001b[0;34m\u001b[0m\u001b[0;34m\u001b[0m\u001b[0m\n\u001b[1;32m      5\u001b[0m     \u001b[0mbf_cols\u001b[0m\u001b[0;34m.\u001b[0m\u001b[0mappend\u001b[0m\u001b[0;34m(\u001b[0m\u001b[0mfield\u001b[0m\u001b[0;34m[\u001b[0m\u001b[0;36m0\u001b[0m\u001b[0;34m]\u001b[0m\u001b[0;34m.\u001b[0m\u001b[0mreplace\u001b[0m\u001b[0;34m(\u001b[0m\u001b[0;34m':'\u001b[0m\u001b[0;34m,\u001b[0m \u001b[0;34m''\u001b[0m\u001b[0;34m)\u001b[0m\u001b[0;34m)\u001b[0m\u001b[0;34m\u001b[0m\u001b[0;34m\u001b[0m\u001b[0m\n\u001b[0;32m----> 6\u001b[0;31m     \u001b[0mbf_text\u001b[0m\u001b[0;34m.\u001b[0m\u001b[0mappend\u001b[0m\u001b[0;34m(\u001b[0m\u001b[0mfield\u001b[0m\u001b[0;34m[\u001b[0m\u001b[0;36m1\u001b[0m\u001b[0;34m]\u001b[0m\u001b[0;34m)\u001b[0m\u001b[0;34m\u001b[0m\u001b[0;34m\u001b[0m\u001b[0m\n\u001b[0m",
      "\u001b[0;31mIndexError\u001b[0m: list index out of range"
     ]
    }
   ],
   "source": [
    "bf_cols=[]\n",
    "bf_text=[]\n",
    "for part in p[0:10]:\n",
    "    field=[text for text in part.stripped_strings]\n",
    "    bf_cols.append(field[0].replace(':', ''))\n",
    "    bf_text.append(field[1])"
   ]
  },
  {
   "cell_type": "code",
   "execution_count": 110,
   "metadata": {},
   "outputs": [
    {
     "data": {
      "text/plain": [
       "'Follow-up investigation report by BFRO Investigator Dr. Wolf H. Fahrenbach:'"
      ]
     },
     "execution_count": 110,
     "metadata": {},
     "output_type": "execute_result"
    }
   ],
   "source": [
    "[text for text in p[0].stripped_strings]"
   ]
  },
  {
   "cell_type": "code",
   "execution_count": 111,
   "metadata": {},
   "outputs": [
    {
     "data": {
      "text/plain": [
       "'Follow-up investigation report by BFRO Investigator Dr. Wolf H. Fahrenbach'"
      ]
     },
     "execution_count": 111,
     "metadata": {},
     "output_type": "execute_result"
    }
   ],
   "source": [
    "bf_cols"
   ]
  },
  {
   "cell_type": "code",
   "execution_count": 106,
   "metadata": {},
   "outputs": [
    {
     "data": {
      "text/plain": [
       "['2004',\n",
       " 'Winter',\n",
       " 'February',\n",
       " 'Alaska',\n",
       " 'Anchorage County',\n",
       " 'Up near powerline clearings east of Potter Marsh in Anchorage.',\n",
       " 'Anchorage / Hillside',\n",
       " 'No real roads in the area',\n",
       " 'I and two of my friends were bored one night so we decided to do a little snowmachining. Though it was illegal to snowmachine in Anchorage, there were some good trails to ride on a little north of my house.',\n",
       " 'Some tracks in the snow, and a clearing in the fresh snow where it looked like a large animal had pushed snow aside and layed down.']"
      ]
     },
     "execution_count": 106,
     "metadata": {},
     "output_type": "execute_result"
    }
   ],
   "source": [
    "bf_text"
   ]
  },
  {
   "cell_type": "code",
   "execution_count": 64,
   "metadata": {},
   "outputs": [
    {
     "data": {
      "text/plain": [
       "<generator object Tag.stripped_strings at 0x7fb82947c190>"
      ]
     },
     "execution_count": 64,
     "metadata": {},
     "output_type": "execute_result"
    }
   ],
   "source": [
    "p[0].stripped_strings"
   ]
  },
  {
   "cell_type": "code",
   "execution_count": 75,
   "metadata": {},
   "outputs": [
    {
     "data": {
      "text/plain": [
       "['OTHER WITNESSES:',\n",
       " 'My two friends were snowmachining behind me but did not see it. If it had been light outside they might have seen it, but it was pitch black outside. My only light was from my snowmachine.']"
      ]
     },
     "execution_count": 75,
     "metadata": {},
     "output_type": "execute_result"
    }
   ],
   "source": [
    "text_list2 = text for text in p[10].stripped_strings]\n",
    "text_list2"
   ]
  },
  {
   "cell_type": "code",
   "execution_count": 45,
   "metadata": {},
   "outputs": [
    {
     "data": {
      "text/plain": [
       "13"
      ]
     },
     "execution_count": 45,
     "metadata": {},
     "output_type": "execute_result"
    }
   ],
   "source": [
    "bf_fields=soup.find_all('span', {'class': 'field'})[0:10]\n",
    "len(bf_fields)"
   ]
  },
  {
   "cell_type": "code",
   "execution_count": 46,
   "metadata": {},
   "outputs": [],
   "source": [
    "bf_cols=[]\n",
    "for field in bf_fields:\n",
    "    name=str(field.string)\n",
    "    bf_cols.append(name)"
   ]
  },
  {
   "cell_type": "code",
   "execution_count": 47,
   "metadata": {},
   "outputs": [
    {
     "data": {
      "text/plain": [
       "['YEAR:',\n",
       " 'SEASON:',\n",
       " 'MONTH:',\n",
       " 'STATE:',\n",
       " 'COUNTY:',\n",
       " 'LOCATION DETAILS:',\n",
       " 'NEAREST TOWN:',\n",
       " 'NEAREST ROAD:',\n",
       " 'OBSERVED:',\n",
       " 'ALSO NOTICED:',\n",
       " 'OTHER WITNESSES:',\n",
       " 'OTHER STORIES:',\n",
       " 'TIME AND CONDITIONS:']"
      ]
     },
     "execution_count": 47,
     "metadata": {},
     "output_type": "execute_result"
    }
   ],
   "source": [
    "bf_cols"
   ]
  },
  {
   "cell_type": "code",
   "execution_count": 34,
   "metadata": {},
   "outputs": [
    {
     "data": {
      "text/plain": [
       "bs4.element.Tag"
      ]
     },
     "execution_count": 34,
     "metadata": {},
     "output_type": "execute_result"
    }
   ],
   "source": [
    "type(bf_fields[0])"
   ]
  },
  {
   "cell_type": "code",
   "execution_count": 40,
   "metadata": {},
   "outputs": [
    {
     "data": {
      "text/plain": [
       "<span class=\"field\">Submitted  by  witness   on Saturday, November 12, 2005.</span>"
      ]
     },
     "execution_count": 40,
     "metadata": {},
     "output_type": "execute_result"
    }
   ],
   "source": [
    "tag=bf_fields[0]\n",
    "tag"
   ]
  },
  {
   "cell_type": "code",
   "execution_count": 37,
   "metadata": {},
   "outputs": [],
   "source": [
    "string=tag.string"
   ]
  },
  {
   "cell_type": "code",
   "execution_count": 39,
   "metadata": {},
   "outputs": [
    {
     "data": {
      "text/plain": [
       "'Submitted  by  witness   on Saturday,\\xa0November\\xa012,\\xa02005.'"
      ]
     },
     "execution_count": 39,
     "metadata": {},
     "output_type": "execute_result"
    }
   ],
   "source": [
    "string"
   ]
  },
  {
   "cell_type": "code",
   "execution_count": 119,
   "metadata": {},
   "outputs": [],
   "source": [
    "bf=[]\n",
    "with open('bigfoot_data.json') as f:\n",
    "    for i in f:\n",
    "        bf.append(json.loads(i))"
   ]
  },
  {
   "cell_type": "code",
   "execution_count": 120,
   "metadata": {},
   "outputs": [],
   "source": [
    "bf_html=[]\n",
    "for report in bf:\n",
    "    bf2=report['html']\n",
    "    bf_html.append(bf2)"
   ]
  },
  {
   "cell_type": "code",
   "execution_count": 122,
   "metadata": {},
   "outputs": [],
   "source": [
    "p=soup.find_all('p')"
   ]
  },
  {
   "cell_type": "code",
   "execution_count": 126,
   "metadata": {},
   "outputs": [
    {
     "data": {
      "text/plain": [
       "<p><span class=\"field\">YEAR:</span> Early 1990's</p>"
      ]
     },
     "execution_count": 126,
     "metadata": {},
     "output_type": "execute_result"
    }
   ],
   "source": [
    "p[0]"
   ]
  },
  {
   "cell_type": "code",
   "execution_count": 136,
   "metadata": {},
   "outputs": [],
   "source": [
    "bf_cols=[]\n",
    "bf_text=[]\n",
    "bf_field=[]\n",
    "for part in p[0:8]:\n",
    "    field=[text for text in part.stripped_strings]\n",
    "    bf_field.append(field)\n",
    "    bf_cols.append(field[0].replace(':', ''))\n",
    "    bf_text.append(field[1])"
   ]
  },
  {
   "cell_type": "code",
   "execution_count": 137,
   "metadata": {},
   "outputs": [
    {
     "data": {
      "text/plain": [
       "[['YEAR:', \"Early 1990's\"],\n",
       " ['SEASON:', 'Fall'],\n",
       " ['STATE:', 'Alaska'],\n",
       " ['COUNTY:', 'Valdez-Chitina-Whittier County'],\n",
       " ['LOCATION DETAILS:', 'East side of Prince William Sound'],\n",
       " ['OBSERVED:',\n",
       "  'Ed L. was salmon fishing with a companion in Prince William Sound. After anchoring off shore, his companion took a small boat up a river to check on the state of the salmon run. As the day wore on toward evening and he didn\\'t come back at the expected time, Ed scanned upriver and across the adjacent land with binoculars. There he saw a sasquatch walking across the tundra, with long, smooth steps and with dark hair flowing from its shoulders, bouncing behind \"like a cape\" at every step. The sasquatch paid no attention to the boat (distance about 1,000\\').'],\n",
       " ['OTHER WITNESSES:',\n",
       "  'On a commercial fishing boat at anchor at the mouth of one of the rivers discharging into the bay.'],\n",
       " ['TIME AND CONDITIONS:', \"Early Fall, in the early 1990's.\"]]"
      ]
     },
     "execution_count": 137,
     "metadata": {},
     "output_type": "execute_result"
    }
   ],
   "source": [
    "bf_field"
   ]
  },
  {
   "cell_type": "code",
   "execution_count": null,
   "metadata": {},
   "outputs": [],
   "source": [
    "for ele in replacements:\n",
    "    for lst in topic_keywords:\n",
    "        lst.remove(ele)"
   ]
  }
 ],
 "metadata": {
  "kernelspec": {
   "display_name": "Python 3",
   "language": "python",
   "name": "python3"
  },
  "language_info": {
   "codemirror_mode": {
    "name": "ipython",
    "version": 3
   },
   "file_extension": ".py",
   "mimetype": "text/x-python",
   "name": "python",
   "nbconvert_exporter": "python",
   "pygments_lexer": "ipython3",
   "version": "3.8.3"
  }
 },
 "nbformat": 4,
 "nbformat_minor": 4
}
